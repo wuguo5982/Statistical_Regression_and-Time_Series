{
 "cells": [
  {
   "cell_type": "markdown",
   "id": "20168297",
   "metadata": {},
   "source": [
    "### Introduction\n",
    "This project analyzes the effect of a minimum wage increase on employment using the Difference-in-Differences (DiD) approach to control for bias. The analysis is supported by three regression models and visualizations."
   ]
  },
  {
   "cell_type": "code",
   "execution_count": null,
   "id": "123565c3",
   "metadata": {},
   "outputs": [
    {
     "data": {
      "text/plain": [
       "NJ                 False\n",
       "POST_APRIL92       False\n",
       "NJ_POST_APRIL92    False\n",
       "fte                False\n",
       "bk                 False\n",
       "kfc                False\n",
       "roys               False\n",
       "wendys             False\n",
       "co_owned           False\n",
       "centralj           False\n",
       "southj             False\n",
       "pa1                False\n",
       "pa2                False\n",
       "demp               False\n",
       "dtype: bool"
      ]
     },
     "execution_count": 1,
     "metadata": {},
     "output_type": "execute_result"
    }
   ],
   "source": [
    "# libraries\n",
    "import numpy as np\n",
    "import pandas as pd\n",
    "import matplotlib.pyplot as plt\n",
    "import statsmodels.api as sm\n",
    "\n",
    "# EDA \n",
    "dataset = pd.read_csv('njmin3.csv')\n",
    "dataset.describe()\n",
    "pd.set_option('display.max_columns', None)\n",
    "\n",
    "# Check missing values\n",
    "dataset.isnull().any()\n",
    "\n",
    "#replacing NAs with averages\n",
    "from sklearn.impute import SimpleImputer\n",
    "missingvalues = SimpleImputer(missing_values = np.nan,\n",
    "                              strategy = 'mean')\n",
    "missingvalues = missingvalues.fit(dataset[['fte', 'demp']])\n",
    "dataset[['fte', 'demp']] = missingvalues.transform(dataset[['fte', 'demp']])\n",
    "\n",
    "#check again\n",
    "dataset.isnull().any()"
   ]
  },
  {
   "cell_type": "code",
   "execution_count": 2,
   "id": "8f6a4ed5",
   "metadata": {},
   "outputs": [
    {
     "data": {
      "text/plain": [
       "Index(['NJ', 'POST_APRIL92', 'NJ_POST_APRIL92', 'fte', 'bk', 'kfc', 'roys',\n",
       "       'wendys', 'co_owned', 'centralj', 'southj', 'pa1', 'pa2', 'demp'],\n",
       "      dtype='object')"
      ]
     },
     "execution_count": 2,
     "metadata": {},
     "output_type": "execute_result"
    }
   ],
   "source": [
    "dataset.columns"
   ]
  },
  {
   "cell_type": "code",
   "execution_count": 3,
   "id": "1b85b18e",
   "metadata": {},
   "outputs": [
    {
     "data": {
      "text/html": [
       "<div>\n",
       "<style scoped>\n",
       "    .dataframe tbody tr th:only-of-type {\n",
       "        vertical-align: middle;\n",
       "    }\n",
       "\n",
       "    .dataframe tbody tr th {\n",
       "        vertical-align: top;\n",
       "    }\n",
       "\n",
       "    .dataframe thead th {\n",
       "        text-align: right;\n",
       "    }\n",
       "</style>\n",
       "<table border=\"1\" class=\"dataframe\">\n",
       "  <thead>\n",
       "    <tr style=\"text-align: right;\">\n",
       "      <th></th>\n",
       "      <th>NJ</th>\n",
       "      <th>POST_APRIL92</th>\n",
       "      <th>NJ_POST_APRIL92</th>\n",
       "    </tr>\n",
       "  </thead>\n",
       "  <tbody>\n",
       "    <tr>\n",
       "      <th>0</th>\n",
       "      <td>1</td>\n",
       "      <td>0</td>\n",
       "      <td>0</td>\n",
       "    </tr>\n",
       "    <tr>\n",
       "      <th>1</th>\n",
       "      <td>1</td>\n",
       "      <td>0</td>\n",
       "      <td>0</td>\n",
       "    </tr>\n",
       "    <tr>\n",
       "      <th>2</th>\n",
       "      <td>1</td>\n",
       "      <td>0</td>\n",
       "      <td>0</td>\n",
       "    </tr>\n",
       "    <tr>\n",
       "      <th>3</th>\n",
       "      <td>1</td>\n",
       "      <td>0</td>\n",
       "      <td>0</td>\n",
       "    </tr>\n",
       "    <tr>\n",
       "      <th>4</th>\n",
       "      <td>1</td>\n",
       "      <td>0</td>\n",
       "      <td>0</td>\n",
       "    </tr>\n",
       "  </tbody>\n",
       "</table>\n",
       "</div>"
      ],
      "text/plain": [
       "   NJ  POST_APRIL92  NJ_POST_APRIL92\n",
       "0   1             0                0\n",
       "1   1             0                0\n",
       "2   1             0                0\n",
       "3   1             0                0\n",
       "4   1             0                0"
      ]
     },
     "execution_count": 3,
     "metadata": {},
     "output_type": "execute_result"
    }
   ],
   "source": [
    "# Define the X and yield\n",
    "X = dataset[['NJ', 'POST_APRIL92', 'NJ_POST_APRIL92']]\n",
    "y = dataset['fte']\n",
    "X.head(5)\n"
   ]
  },
  {
   "cell_type": "code",
   "execution_count": null,
   "id": "00d77fa9",
   "metadata": {},
   "outputs": [
    {
     "data": {
      "text/html": [
       "<div>\n",
       "<style scoped>\n",
       "    .dataframe tbody tr th:only-of-type {\n",
       "        vertical-align: middle;\n",
       "    }\n",
       "\n",
       "    .dataframe tbody tr th {\n",
       "        vertical-align: top;\n",
       "    }\n",
       "\n",
       "    .dataframe thead th {\n",
       "        text-align: right;\n",
       "    }\n",
       "</style>\n",
       "<table border=\"1\" class=\"dataframe\">\n",
       "  <thead>\n",
       "    <tr style=\"text-align: right;\">\n",
       "      <th></th>\n",
       "      <th>const</th>\n",
       "      <th>NJ</th>\n",
       "      <th>POST_APRIL92</th>\n",
       "      <th>NJ_POST_APRIL92</th>\n",
       "    </tr>\n",
       "  </thead>\n",
       "  <tbody>\n",
       "    <tr>\n",
       "      <th>0</th>\n",
       "      <td>1.0</td>\n",
       "      <td>1</td>\n",
       "      <td>0</td>\n",
       "      <td>0</td>\n",
       "    </tr>\n",
       "    <tr>\n",
       "      <th>1</th>\n",
       "      <td>1.0</td>\n",
       "      <td>1</td>\n",
       "      <td>0</td>\n",
       "      <td>0</td>\n",
       "    </tr>\n",
       "    <tr>\n",
       "      <th>2</th>\n",
       "      <td>1.0</td>\n",
       "      <td>1</td>\n",
       "      <td>0</td>\n",
       "      <td>0</td>\n",
       "    </tr>\n",
       "    <tr>\n",
       "      <th>3</th>\n",
       "      <td>1.0</td>\n",
       "      <td>1</td>\n",
       "      <td>0</td>\n",
       "      <td>0</td>\n",
       "    </tr>\n",
       "    <tr>\n",
       "      <th>4</th>\n",
       "      <td>1.0</td>\n",
       "      <td>1</td>\n",
       "      <td>0</td>\n",
       "      <td>0</td>\n",
       "    </tr>\n",
       "  </tbody>\n",
       "</table>\n",
       "</div>"
      ],
      "text/plain": [
       "   const  NJ  POST_APRIL92  NJ_POST_APRIL92\n",
       "0    1.0   1             0                0\n",
       "1    1.0   1             0                0\n",
       "2    1.0   1             0                0\n",
       "3    1.0   1             0                0\n",
       "4    1.0   1             0                0"
      ]
     },
     "execution_count": 4,
     "metadata": {},
     "output_type": "execute_result"
    }
   ],
   "source": [
    "# Adding a constant \n",
    "# It represents the intercept term (also called the constant or bias term) in the regression model.\n",
    "X1 = sm.add_constant(X)\n",
    "X1.head()"
   ]
  },
  {
   "cell_type": "markdown",
   "id": "beca76d0",
   "metadata": {},
   "source": [
    "#### Model1"
   ]
  },
  {
   "cell_type": "code",
   "execution_count": null,
   "id": "5170cddb",
   "metadata": {},
   "outputs": [
    {
     "name": "stdout",
     "output_type": "stream",
     "text": [
      "                            OLS Regression Results                            \n",
      "==============================================================================\n",
      "Dep. Variable:                    FTE   R-squared:                       0.007\n",
      "Model:                            OLS   Adj. R-squared:                  0.004\n",
      "Method:                 Least Squares   F-statistic:                     1.974\n",
      "Date:                Sun, 20 Apr 2025   Prob (F-statistic):              0.116\n",
      "Time:                        11:11:06   Log-Likelihood:                -2986.2\n",
      "No. Observations:                 820   AIC:                             5980.\n",
      "Df Residuals:                     816   BIC:                             5999.\n",
      "Df Model:                           3                                         \n",
      "Covariance Type:            nonrobust                                         \n",
      "===================================================================================================\n",
      "                                      coef    std err          t      P>|t|      [0.025      0.975]\n",
      "---------------------------------------------------------------------------------------------------\n",
      "intercept                          23.2728      1.041     22.349      0.000      21.229      25.317\n",
      "New Jersey                         -2.8157      1.159     -2.430      0.015      -5.091      -0.541\n",
      "After April 1992                   -2.1108      1.473     -1.433      0.152      -5.001       0.780\n",
      "New Jersey and after April 1992     2.6810      1.639      1.636      0.102      -0.536       5.898\n",
      "==============================================================================\n",
      "Omnibus:                      232.659   Durbin-Watson:                   1.847\n",
      "Prob(Omnibus):                  0.000   Jarque-Bera (JB):              908.337\n",
      "Skew:                           1.289   Prob(JB):                    5.72e-198\n",
      "Kurtosis:                       7.465   Cond. No.                         11.4\n",
      "==============================================================================\n",
      "\n",
      "Notes:\n",
      "[1] Standard Errors assume that the covariance matrix of the errors is correctly specified.\n"
     ]
    }
   ],
   "source": [
    "model1 = sm.OLS(y, X1).fit()\n",
    "result1 = model1.summary(yname = \"FTE\",\n",
    "               xname = (\"intercept\", \"New Jersey\", \"After April 1992\", \"New Jersey and after April 1992\"))\n",
    "print(result1)"
   ]
  },
  {
   "cell_type": "markdown",
   "id": "04a4508e",
   "metadata": {},
   "source": [
    "### Data Visualizaiton"
   ]
  },
  {
   "cell_type": "code",
   "execution_count": null,
   "id": "7defa500",
   "metadata": {},
   "outputs": [
    {
     "data": {
      "text/plain": [
       "const              23.272823\n",
       "NJ                 -2.815678\n",
       "POST_APRIL92       -2.110759\n",
       "NJ_POST_APRIL92     2.681010\n",
       "dtype: float64"
      ]
     },
     "execution_count": 6,
     "metadata": {},
     "output_type": "execute_result"
    }
   ],
   "source": [
    "# Extracting coefficents\n",
    "intercept, nj_coef, post_april92_coef, nj_post_april92_coef = model1.params\n",
    "model1.params"
   ]
  },
  {
   "cell_type": "code",
   "execution_count": 7,
   "id": "c8ccd637",
   "metadata": {},
   "outputs": [],
   "source": [
    "# Calculate the FTE for each group \n",
    "pre_pa = intercept\n",
    "post_pa = intercept + post_april92_coef\n",
    "pre_nj = intercept + nj_coef   \n",
    "post_nj = intercept + nj_coef + post_april92_coef + nj_post_april92_coef\n",
    "counterfactual = intercept + nj_coef + post_april92_coef"
   ]
  },
  {
   "cell_type": "code",
   "execution_count": 15,
   "id": "35a8ce3e",
   "metadata": {},
   "outputs": [
    {
     "data": {
      "text/plain": [
       "[]"
      ]
     },
     "execution_count": 15,
     "metadata": {},
     "output_type": "execute_result"
    },
    {
     "data": {
      "image/png": "[encoded data removed]",
      "text/plain": [
       "<Figure size 800x400 with 1 Axes>"
      ]
     },
     "metadata": {},
     "output_type": "display_data"
    }
   ],
   "source": [
    "# visualization\n",
    "plt.figure(figsize=(8,4))\n",
    "time = ['Pre-april 1992', 'Post-april 1992']\n",
    "\n",
    "plt.plot(time, [pre_pa, post_pa],\n",
    "         marker = 'o', linestyle = '-', color = 'green', label = 'Observed FTE in PA')\n",
    "\n",
    "plt.plot(time, [pre_nj, post_nj], \n",
    "         marker ='o', linestyle = '-', color = 'red', label = \"Observed FTE in NJ\")\n",
    "\n",
    "plt.plot(time, [pre_nj, counterfactual], \n",
    "         marker='o', linestyle = '--', color = 'green', label = \"Counterfactual\")\n",
    "\n",
    "plt.title(\"Difference in Differences: Impact of the April 1992 Minimum Wage Measure\", \n",
    "          fontsize  =16)\n",
    "plt.xlabel(\"Timeline\", fontsize = 12)\n",
    "plt.ylabel(\"FTE\", fontsize = 12)\n",
    "plt.legend(loc = \"upper right\", title = \"Legend\", fontsize = 10, frameon = True, title_fontsize = 8, bbox_to_anchor = (1,1))\n",
    "\n",
    "plt.grid(True)\n",
    "plt.plot()\n",
    "\n",
    "           "
   ]
  },
  {
   "cell_type": "markdown",
   "id": "70df4a20",
   "metadata": {},
   "source": [
    "#### Model2"
   ]
  },
  {
   "cell_type": "code",
   "execution_count": null,
   "id": "34f20449",
   "metadata": {},
   "outputs": [
    {
     "name": "stdout",
     "output_type": "stream",
     "text": [
      "                            OLS Regression Results                            \n",
      "==============================================================================\n",
      "Dep. Variable:                    FTE   R-squared:                       0.191\n",
      "Model:                            OLS   Adj. R-squared:                  0.185\n",
      "Method:                 Least Squares   F-statistic:                     31.95\n",
      "Date:                Sun, 20 Apr 2025   Prob (F-statistic):           1.30e-34\n",
      "Time:                        11:10:29   Log-Likelihood:                -2902.4\n",
      "No. Observations:                 820   AIC:                             5819.\n",
      "Df Residuals:                     813   BIC:                             5852.\n",
      "Df Model:                           6                                         \n",
      "Covariance Type:            nonrobust                                         \n",
      "===================================================================================================\n",
      "                                      coef    std err          t      P>|t|      [0.025      0.975]\n",
      "---------------------------------------------------------------------------------------------------\n",
      "intercept                          23.4055      1.085     21.575      0.000      21.276      25.535\n",
      "New Jersey                         -2.2349      1.050     -2.129      0.034      -4.296      -0.174\n",
      "After April 1992                   -2.1108      1.332     -1.585      0.113      -4.725       0.504\n",
      "New Jersey and after April 1992     2.6810      1.482      1.809      0.071      -0.229       5.591\n",
      "Burger King                         2.1620      0.748      2.891      0.004       0.694       3.630\n",
      "KFC                                -8.4912      0.890     -9.540      0.000     -10.238      -6.744\n",
      "Wendy's                             1.0496      0.970      1.082      0.280      -0.855       2.954\n",
      "==============================================================================\n",
      "Omnibus:                      300.626   Durbin-Watson:                   1.965\n",
      "Prob(Omnibus):                  0.000   Jarque-Bera (JB):             1848.909\n",
      "Skew:                           1.530   Prob(JB):                         0.00\n",
      "Kurtosis:                       9.690   Cond. No.                         12.0\n",
      "==============================================================================\n",
      "\n",
      "Notes:\n",
      "[1] Standard Errors assume that the covariance matrix of the errors is correctly specified.\n"
     ]
    }
   ],
   "source": [
    "# Choose variables\n",
    "X = dataset.loc[:, ['NJ', 'POST_APRIL92', 'NJ_POST_APRIL92',\n",
    "                'bk', 'kfc', 'wendys']].values\n",
    "Y = dataset['fte']\n",
    "\n",
    "#creating the second model\n",
    "X = sm.add_constant(X)\n",
    "model2 = sm.OLS(Y, X).fit()\n",
    "result2 = model2.summary(yname = \"FTE\",\n",
    "               xname = (\"intercept\", \"New Jersey\", \"After April 1992\",\n",
    "                        \"New Jersey and after April 1992\",\n",
    "                        \"Burger King\", \"KFC\", \"Wendy's\"))\n",
    "print(result2)"
   ]
  },
  {
   "cell_type": "markdown",
   "id": "fd7d72c3",
   "metadata": {},
   "source": []
  },
  {
   "cell_type": "markdown",
   "id": "b02dc1e7",
   "metadata": {},
   "source": [
    "#### Model3"
   ]
  },
  {
   "cell_type": "code",
   "execution_count": null,
   "id": "380e021a",
   "metadata": {},
   "outputs": [
    {
     "name": "stdout",
     "output_type": "stream",
     "text": [
      "                            OLS Regression Results                            \n",
      "==============================================================================\n",
      "Dep. Variable:                    FTE   R-squared:                       0.217\n",
      "Model:                            OLS   Adj. R-squared:                  0.208\n",
      "Method:                 Least Squares   F-statistic:                     24.89\n",
      "Date:                Sun, 20 Apr 2025   Prob (F-statistic):           6.45e-38\n",
      "Time:                        11:11:34   Log-Likelihood:                -2889.1\n",
      "No. Observations:                 820   AIC:                             5798.\n",
      "Df Residuals:                     810   BIC:                             5845.\n",
      "Df Model:                           9                                         \n",
      "Covariance Type:            nonrobust                                         \n",
      "===================================================================================================\n",
      "                                      coef    std err          t      P>|t|      [0.025      0.975]\n",
      "---------------------------------------------------------------------------------------------------\n",
      "intercept                          23.9321      1.184     20.204      0.000      21.607      26.257\n",
      "New Jersey                         -1.3009      1.078     -1.207      0.228      -3.416       0.815\n",
      "After April 1992                   -2.1108      1.313     -1.608      0.108      -4.688       0.466\n",
      "New Jersey and after April 1992     2.6810      1.461      1.835      0.067      -0.187       5.549\n",
      "Burger King                         1.6653      0.832      2.002      0.046       0.033       3.298\n",
      "KFC                                -8.2346      0.899     -9.161      0.000      -9.999      -6.470\n",
      "Wendy's                             0.6218      1.017      0.612      0.541      -1.374       2.617\n",
      "Co-owned                           -0.7456      0.699     -1.066      0.287      -2.118       0.627\n",
      "Central J                           0.0030      0.867      0.003      0.997      -1.699       1.705\n",
      "South J                            -3.5487      0.759     -4.674      0.000      -5.039      -2.058\n",
      "==============================================================================\n",
      "Omnibus:                      309.762   Durbin-Watson:                   2.047\n",
      "Prob(Omnibus):                  0.000   Jarque-Bera (JB):             1987.511\n",
      "Skew:                           1.570   Prob(JB):                         0.00\n",
      "Kurtosis:                       9.951   Cond. No.                         12.6\n",
      "==============================================================================\n",
      "\n",
      "Notes:\n",
      "[1] Standard Errors assume that the covariance matrix of the errors is correctly specified.\n"
     ]
    }
   ],
   "source": [
    "# Choose variables\n",
    "X = dataset.loc[:, ['NJ', 'POST_APRIL92', 'NJ_POST_APRIL92',\n",
    "                'bk', 'kfc', 'wendys',\n",
    "                'co_owned', 'centralj', 'southj']].values\n",
    "\n",
    "#creating the third model\n",
    "import statsmodels.api as sm\n",
    "X = sm.add_constant(X)\n",
    "model3 = sm.OLS(Y, X).fit()\n",
    "result3 = model3.summary(yname = \"FTE\",\n",
    "               xname = (\"intercept\", \"New Jersey\", \"After April 1992\",\n",
    "                        \"New Jersey and after April 1992\",\n",
    "                        \"Burger King\", \"KFC\", \"Wendy's\",\n",
    "                        \"Co-owned\", \"Central J\", \"South J\"))\n",
    "print(result3)"
   ]
  },
  {
   "cell_type": "markdown",
   "id": "646b95bc",
   "metadata": {},
   "source": [
    "#### Summary \n",
    "1. Three regression models were built using different sets of variables.  \n",
    "2. The treatment effect of the minimum wage increase is associated with higher employment.  \n",
    "3. The coefficient of `NJ_POST_APRIL92` remains highly stable across model specifications, though its p-value shows some variability.  \n",
    "4. This project acknowledges resources from Udemy and *The Elements of Statistical Learning*."
   ]
  },
  {
   "cell_type": "code",
   "execution_count": null,
   "id": "db2b133d",
   "metadata": {},
   "outputs": [],
   "source": []
  }
 ],
 "metadata": {
  "kernelspec": {
   "display_name": "Python 3",
   "language": "python",
   "name": "python3"
  },
  "language_info": {
   "codemirror_mode": {
    "name": "ipython",
    "version": 3
   },
   "file_extension": ".py",
   "mimetype": "text/x-python",
   "name": "python",
   "nbconvert_exporter": "python",
   "pygments_lexer": "ipython3",
   "version": "3.11.9"
  }
 },
 "nbformat": 4,
 "nbformat_minor": 5
}
