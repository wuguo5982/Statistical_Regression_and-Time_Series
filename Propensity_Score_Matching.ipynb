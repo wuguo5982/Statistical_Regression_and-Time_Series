{
 "cells": [
  {
   "cell_type": "markdown",
   "id": "39e8fa1e",
   "metadata": {},
   "source": [
    "#### Introduction\n",
    "In this project, we applied Propensity Score Matching (PSM) to reduce selection bias when estimating the effect of a treatment using observational data. We conducted t-tests to analyze baseline differences and built a logistic regression model to estimate propensity scores. After matching, we recomputed propensity scores using the matched dataset and visualized the common support region to assess the overlap between treated and control groups."
   ]
  },
  {
   "cell_type": "code",
   "execution_count": null,
   "id": "cf4d3de2",
   "metadata": {
    "vscode": {
     "languageId": "r"
    }
   },
   "outputs": [
    {
     "data": {
      "text/html": [
       "<table class=\"dataframe\">\n",
       "<caption>A data.frame: 5 × 10</caption>\n",
       "<thead>\n",
       "\t<tr><th></th><th scope=col>treat</th><th scope=col>age</th><th scope=col>educ</th><th scope=col>black</th><th scope=col>hispan</th><th scope=col>married</th><th scope=col>nodegree</th><th scope=col>re74</th><th scope=col>re75</th><th scope=col>re78</th></tr>\n",
       "\t<tr><th></th><th scope=col>&lt;int&gt;</th><th scope=col>&lt;int&gt;</th><th scope=col>&lt;int&gt;</th><th scope=col>&lt;int&gt;</th><th scope=col>&lt;int&gt;</th><th scope=col>&lt;int&gt;</th><th scope=col>&lt;int&gt;</th><th scope=col>&lt;dbl&gt;</th><th scope=col>&lt;dbl&gt;</th><th scope=col>&lt;dbl&gt;</th></tr>\n",
       "</thead>\n",
       "<tbody>\n",
       "\t<tr><th scope=row>1</th><td>1</td><td>37</td><td>11</td><td>1</td><td>0</td><td>1</td><td>1</td><td>0</td><td>0</td><td> 9930.0460</td></tr>\n",
       "\t<tr><th scope=row>2</th><td>1</td><td>22</td><td> 9</td><td>0</td><td>1</td><td>0</td><td>1</td><td>0</td><td>0</td><td> 3595.8940</td></tr>\n",
       "\t<tr><th scope=row>3</th><td>1</td><td>30</td><td>12</td><td>1</td><td>0</td><td>0</td><td>0</td><td>0</td><td>0</td><td>24909.4500</td></tr>\n",
       "\t<tr><th scope=row>4</th><td>1</td><td>27</td><td>11</td><td>1</td><td>0</td><td>0</td><td>1</td><td>0</td><td>0</td><td> 7506.1460</td></tr>\n",
       "\t<tr><th scope=row>5</th><td>1</td><td>33</td><td> 8</td><td>1</td><td>0</td><td>0</td><td>1</td><td>0</td><td>0</td><td>  289.7899</td></tr>\n",
       "</tbody>\n",
       "</table>\n"
      ],
      "text/latex": [
       "A data.frame: 5 × 10\n",
       "\\begin{tabular}{r|llllllllll}\n",
       "  & treat & age & educ & black & hispan & married & nodegree & re74 & re75 & re78\\\\\n",
       "  & <int> & <int> & <int> & <int> & <int> & <int> & <int> & <dbl> & <dbl> & <dbl>\\\\\n",
       "\\hline\n",
       "\t1 & 1 & 37 & 11 & 1 & 0 & 1 & 1 & 0 & 0 &  9930.0460\\\\\n",
       "\t2 & 1 & 22 &  9 & 0 & 1 & 0 & 1 & 0 & 0 &  3595.8940\\\\\n",
       "\t3 & 1 & 30 & 12 & 1 & 0 & 0 & 0 & 0 & 0 & 24909.4500\\\\\n",
       "\t4 & 1 & 27 & 11 & 1 & 0 & 0 & 1 & 0 & 0 &  7506.1460\\\\\n",
       "\t5 & 1 & 33 &  8 & 1 & 0 & 0 & 1 & 0 & 0 &   289.7899\\\\\n",
       "\\end{tabular}\n"
      ],
      "text/markdown": [
       "\n",
       "A data.frame: 5 × 10\n",
       "\n",
       "| <!--/--> | treat &lt;int&gt; | age &lt;int&gt; | educ &lt;int&gt; | black &lt;int&gt; | hispan &lt;int&gt; | married &lt;int&gt; | nodegree &lt;int&gt; | re74 &lt;dbl&gt; | re75 &lt;dbl&gt; | re78 &lt;dbl&gt; |\n",
       "|---|---|---|---|---|---|---|---|---|---|---|\n",
       "| 1 | 1 | 37 | 11 | 1 | 0 | 1 | 1 | 0 | 0 |  9930.0460 |\n",
       "| 2 | 1 | 22 |  9 | 0 | 1 | 0 | 1 | 0 | 0 |  3595.8940 |\n",
       "| 3 | 1 | 30 | 12 | 1 | 0 | 0 | 0 | 0 | 0 | 24909.4500 |\n",
       "| 4 | 1 | 27 | 11 | 1 | 0 | 0 | 1 | 0 | 0 |  7506.1460 |\n",
       "| 5 | 1 | 33 |  8 | 1 | 0 | 0 | 1 | 0 | 0 |   289.7899 |\n",
       "\n"
      ],
      "text/plain": [
       "  treat age educ black hispan married nodegree re74 re75 re78      \n",
       "1 1     37  11   1     0      1       1        0    0     9930.0460\n",
       "2 1     22   9   0     1      0       1        0    0     3595.8940\n",
       "3 1     30  12   1     0      0       0        0    0    24909.4500\n",
       "4 1     27  11   1     0      0       1        0    0     7506.1460\n",
       "5 1     33   8   1     0      0       1        0    0      289.7899"
      ]
     },
     "metadata": {},
     "output_type": "display_data"
    }
   ],
   "source": [
    "# Install.packages(\"MatchIt\")\n",
    "library(MatchIt)\n",
    "\n",
    "# Load dataset\n",
    "dataset <- read.csv(\"lalonde.csv\")\n",
    "head(dataset, n = 5)"
   ]
  },
  {
   "cell_type": "code",
   "execution_count": null,
   "id": "f92722e4",
   "metadata": {
    "vscode": {
     "languageId": "r"
    }
   },
   "outputs": [
    {
     "data": {
      "text/html": [
       "<table class=\"dataframe\">\n",
       "<caption>A tibble: 2 × 2</caption>\n",
       "<thead>\n",
       "\t<tr><th scope=col>treat</th><th scope=col>mean_income_78</th></tr>\n",
       "\t<tr><th scope=col>&lt;int&gt;</th><th scope=col>&lt;dbl&gt;</th></tr>\n",
       "</thead>\n",
       "<tbody>\n",
       "\t<tr><td>0</td><td>6984.170</td></tr>\n",
       "\t<tr><td>1</td><td>6349.144</td></tr>\n",
       "</tbody>\n",
       "</table>\n"
      ],
      "text/latex": [
       "A tibble: 2 × 2\n",
       "\\begin{tabular}{ll}\n",
       " treat & mean\\_income\\_78\\\\\n",
       " <int> & <dbl>\\\\\n",
       "\\hline\n",
       "\t 0 & 6984.170\\\\\n",
       "\t 1 & 6349.144\\\\\n",
       "\\end{tabular}\n"
      ],
      "text/markdown": [
       "\n",
       "A tibble: 2 × 2\n",
       "\n",
       "| treat &lt;int&gt; | mean_income_78 &lt;dbl&gt; |\n",
       "|---|---|\n",
       "| 0 | 6984.170 |\n",
       "| 1 | 6349.144 |\n",
       "\n"
      ],
      "text/plain": [
       "  treat mean_income_78\n",
       "1 0     6984.170      \n",
       "2 1     6349.144      "
      ]
     },
     "metadata": {},
     "output_type": "display_data"
    }
   ],
   "source": [
    "# Calculate the income average in 78\n",
    "# Install.packages(\"dplyr\")\n",
    "library(dplyr)\n",
    "dataset %>%\n",
    "  group_by(treat) %>%\n",
    "  summarise(mean_income_78 = mean(re78))"
   ]
  },
  {
   "cell_type": "code",
   "execution_count": null,
   "id": "b951897c",
   "metadata": {
    "vscode": {
     "languageId": "r"
    }
   },
   "outputs": [
    {
     "name": "stderr",
     "output_type": "stream",
     "text": [
      "\u001b[1m\u001b[22mAdding missing grouping variables: `treat`\n"
     ]
    },
    {
     "data": {
      "text/html": [
       "<table class=\"dataframe\">\n",
       "<caption>A tibble: 2 × 9</caption>\n",
       "<thead>\n",
       "\t<tr><th scope=col>treat</th><th scope=col>re74</th><th scope=col>re75</th><th scope=col>age</th><th scope=col>educ</th><th scope=col>black</th><th scope=col>hispan</th><th scope=col>married</th><th scope=col>nodegree</th></tr>\n",
       "\t<tr><th scope=col>&lt;int&gt;</th><th scope=col>&lt;dbl&gt;</th><th scope=col>&lt;dbl&gt;</th><th scope=col>&lt;dbl&gt;</th><th scope=col>&lt;dbl&gt;</th><th scope=col>&lt;dbl&gt;</th><th scope=col>&lt;dbl&gt;</th><th scope=col>&lt;dbl&gt;</th><th scope=col>&lt;dbl&gt;</th></tr>\n",
       "</thead>\n",
       "<tbody>\n",
       "\t<tr><td>0</td><td>5619.237</td><td>2466.484</td><td>28.03030</td><td>10.23543</td><td>0.2027972</td><td>0.14219114</td><td>0.5128205</td><td>0.5967366</td></tr>\n",
       "\t<tr><td>1</td><td>2095.574</td><td>1532.055</td><td>25.81622</td><td>10.34595</td><td>0.8432432</td><td>0.05945946</td><td>0.1891892</td><td>0.7081081</td></tr>\n",
       "</tbody>\n",
       "</table>\n"
      ],
      "text/latex": [
       "A tibble: 2 × 9\n",
       "\\begin{tabular}{lllllllll}\n",
       " treat & re74 & re75 & age & educ & black & hispan & married & nodegree\\\\\n",
       " <int> & <dbl> & <dbl> & <dbl> & <dbl> & <dbl> & <dbl> & <dbl> & <dbl>\\\\\n",
       "\\hline\n",
       "\t 0 & 5619.237 & 2466.484 & 28.03030 & 10.23543 & 0.2027972 & 0.14219114 & 0.5128205 & 0.5967366\\\\\n",
       "\t 1 & 2095.574 & 1532.055 & 25.81622 & 10.34595 & 0.8432432 & 0.05945946 & 0.1891892 & 0.7081081\\\\\n",
       "\\end{tabular}\n"
      ],
      "text/markdown": [
       "\n",
       "A tibble: 2 × 9\n",
       "\n",
       "| treat &lt;int&gt; | re74 &lt;dbl&gt; | re75 &lt;dbl&gt; | age &lt;dbl&gt; | educ &lt;dbl&gt; | black &lt;dbl&gt; | hispan &lt;dbl&gt; | married &lt;dbl&gt; | nodegree &lt;dbl&gt; |\n",
       "|---|---|---|---|---|---|---|---|---|\n",
       "| 0 | 5619.237 | 2466.484 | 28.03030 | 10.23543 | 0.2027972 | 0.14219114 | 0.5128205 | 0.5967366 |\n",
       "| 1 | 2095.574 | 1532.055 | 25.81622 | 10.34595 | 0.8432432 | 0.05945946 | 0.1891892 | 0.7081081 |\n",
       "\n"
      ],
      "text/plain": [
       "  treat re74     re75     age      educ     black     hispan     married  \n",
       "1 0     5619.237 2466.484 28.03030 10.23543 0.2027972 0.14219114 0.5128205\n",
       "2 1     2095.574 1532.055 25.81622 10.34595 0.8432432 0.05945946 0.1891892\n",
       "  nodegree \n",
       "1 0.5967366\n",
       "2 0.7081081"
      ]
     },
     "metadata": {},
     "output_type": "display_data"
    }
   ],
   "source": [
    "# Calculate the averages of the confounders\n",
    "confounders <- c(\"re74\", \"re75\", \"age\", \"educ\", \"black\", \"hispan\", \"married\",\n",
    "                 \"nodegree\")\n",
    "dataset %>%\n",
    "  group_by(treat) %>%\n",
    "  select(one_of(confounders)) %>%\n",
    "  summarise_all(list(~ mean(., na.rm = TRUE)))"
   ]
  },
  {
   "cell_type": "code",
   "execution_count": null,
   "id": "091fec77",
   "metadata": {
    "vscode": {
     "languageId": "r"
    }
   },
   "outputs": [
    {
     "data": {
      "text/plain": [
       "\n",
       "\tWelch Two Sample t-test\n",
       "\n",
       "data:  dataset$re74 by dataset$treat\n",
       "t = 7.2456, df = 475.99, p-value = 1.748e-12\n",
       "alternative hypothesis: true difference in means between group 0 and group 1 is not equal to 0\n",
       "95 percent confidence interval:\n",
       " 2568.067 4479.258\n",
       "sample estimates:\n",
       "mean in group 0 mean in group 1 \n",
       "       5619.237        2095.574 \n"
      ]
     },
     "metadata": {},
     "output_type": "display_data"
    },
    {
     "data": {
      "text/plain": [
       "\n",
       "\tWelch Two Sample t-test\n",
       "\n",
       "data:  dataset[, \"re74\"] by dataset[, \"treat\"]\n",
       "t = 7.2456, df = 475.99, p-value = 1.748e-12\n",
       "alternative hypothesis: true difference in means between group 0 and group 1 is not equal to 0\n",
       "95 percent confidence interval:\n",
       " 2568.067 4479.258\n",
       "sample estimates:\n",
       "mean in group 0 mean in group 1 \n",
       "       5619.237        2095.574 \n"
      ]
     },
     "metadata": {},
     "output_type": "display_data"
    },
    {
     "data": {
      "text/plain": [
       "[[1]]\n",
       "\n",
       "\tWelch Two Sample t-test\n",
       "\n",
       "data:  dataset[, variable] by dataset[, \"treat\"]\n",
       "t = 7.2456, df = 475.99, p-value = 1.748e-12\n",
       "alternative hypothesis: true difference in means between group 0 and group 1 is not equal to 0\n",
       "95 percent confidence interval:\n",
       " 2568.067 4479.258\n",
       "sample estimates:\n",
       "mean in group 0 mean in group 1 \n",
       "       5619.237        2095.574 \n",
       "\n",
       "\n",
       "[[2]]\n",
       "\n",
       "\tWelch Two Sample t-test\n",
       "\n",
       "data:  dataset[, variable] by dataset[, \"treat\"]\n",
       "t = 3.2776, df = 356.22, p-value = 0.00115\n",
       "alternative hypothesis: true difference in means between group 0 and group 1 is not equal to 0\n",
       "95 percent confidence interval:\n",
       "  373.742 1495.116\n",
       "sample estimates:\n",
       "mean in group 0 mean in group 1 \n",
       "       2466.484        1532.055 \n",
       "\n",
       "\n",
       "[[3]]\n",
       "\n",
       "\tWelch Two Sample t-test\n",
       "\n",
       "data:  dataset[, variable] by dataset[, \"treat\"]\n",
       "t = 2.9911, df = 510.57, p-value = 0.002914\n",
       "alternative hypothesis: true difference in means between group 0 and group 1 is not equal to 0\n",
       "95 percent confidence interval:\n",
       " 0.7598127 3.6683610\n",
       "sample estimates:\n",
       "mean in group 0 mean in group 1 \n",
       "       28.03030        25.81622 \n",
       "\n",
       "\n",
       "[[4]]\n",
       "\n",
       "\tWelch Two Sample t-test\n",
       "\n",
       "data:  dataset[, variable] by dataset[, \"treat\"]\n",
       "t = -0.54676, df = 485.37, p-value = 0.5848\n",
       "alternative hypothesis: true difference in means between group 0 and group 1 is not equal to 0\n",
       "95 percent confidence interval:\n",
       " -0.5076687  0.2866393\n",
       "sample estimates:\n",
       "mean in group 0 mean in group 1 \n",
       "       10.23543        10.34595 \n",
       "\n"
      ]
     },
     "metadata": {},
     "output_type": "display_data"
    }
   ],
   "source": [
    "# t test the continuous confounders\n",
    "continuous_confounders <- c(\"re74\", \"re75\", \"age\", \"educ\")\n",
    "t.test(dataset$re74 ~ dataset$treat)\n",
    "t.test(dataset[, 're74'] ~ dataset[, 'treat'])\n",
    "lapply(continuous_confounders, function(variable){\n",
    "  t.test(dataset[, variable] ~ dataset[, 'treat'])})"
   ]
  },
  {
   "cell_type": "code",
   "execution_count": null,
   "id": "8ea4d907",
   "metadata": {
    "vscode": {
     "languageId": "r"
    }
   },
   "outputs": [
    {
     "data": {
      "text/plain": [
       "\n",
       "Call:\n",
       "glm(formula = treat ~ re74 + re75 + age + educ + black + hispan + \n",
       "    married + nodegree, family = \"binomial\", data = dataset)\n",
       "\n",
       "Coefficients:\n",
       "              Estimate Std. Error z value Pr(>|z|)    \n",
       "(Intercept) -4.729e+00  1.017e+00  -4.649 3.33e-06 ***\n",
       "re74        -7.178e-05  2.875e-05  -2.497  0.01253 *  \n",
       "re75         5.345e-05  4.635e-05   1.153  0.24884    \n",
       "age          1.578e-02  1.358e-02   1.162  0.24521    \n",
       "educ         1.613e-01  6.513e-02   2.477  0.01325 *  \n",
       "black        3.065e+00  2.865e-01  10.699  < 2e-16 ***\n",
       "hispan       9.836e-01  4.257e-01   2.311  0.02084 *  \n",
       "married     -8.321e-01  2.903e-01  -2.866  0.00415 ** \n",
       "nodegree     7.073e-01  3.377e-01   2.095  0.03620 *  \n",
       "---\n",
       "Signif. codes:  0 '***' 0.001 '**' 0.01 '*' 0.05 '.' 0.1 ' ' 1\n",
       "\n",
       "(Dispersion parameter for binomial family taken to be 1)\n",
       "\n",
       "    Null deviance: 751.49  on 613  degrees of freedom\n",
       "Residual deviance: 487.84  on 605  degrees of freedom\n",
       "AIC: 505.84\n",
       "\n",
       "Number of Fisher Scoring iterations: 5\n"
      ]
     },
     "metadata": {},
     "output_type": "display_data"
    }
   ],
   "source": [
    "# Create model to compute propensities\n",
    "model_propensity <- glm(treat ~ re74 + re75 + age + educ +\n",
    "                          black + hispan + married + nodegree,\n",
    "                        family = \"binomial\",\n",
    "                        data = dataset)\n",
    "summary(model_propensity)"
   ]
  },
  {
   "cell_type": "code",
   "execution_count": null,
   "id": "c494e0b6",
   "metadata": {
    "vscode": {
     "languageId": "r"
    }
   },
   "outputs": [],
   "source": [
    "# Create dataframe for common support region\n",
    "propensity_scores <- predict(model_propensity, type = \"response\")\n",
    "propensity_dataframe <- data.frame(propensity_score = propensity_scores,\n",
    "                                   treat = model_propensity$model$treat)"
   ]
  },
  {
   "cell_type": "code",
   "execution_count": null,
   "id": "1592b377",
   "metadata": {
    "vscode": {
     "languageId": "r"
    }
   },
   "outputs": [
    {
     "data": {
      "image/png": "[encoded data removed]",
      "text/plain": [
       "plot without title"
      ]
     },
     "metadata": {
      "image/png": {
       "height": 420,
       "width": 420
      }
     },
     "output_type": "display_data"
    }
   ],
   "source": [
    "# Visualizing common support region\n",
    "library(ggplot2)\n",
    "\n",
    "propensity_dataframe %>%\n",
    "  ggplot(aes(x = propensity_score, fill = as.factor(treat))) + \n",
    "  geom_histogram(position = \"identity\", alpha = 0.6, bins = 30) + \n",
    "  facet_wrap(~ treat) +\n",
    "  xlab(\"Propensity Score\") +\n",
    "  ylab(\"Count\") +\n",
    "  scale_fill_manual(values = c(\"0\" = \"red\", \"1\" = \"blue\"),\n",
    "                    name = \"Treatment Group\",\n",
    "                    labels = c(\"Control\", \"Treated\")) +\n",
    "  theme_minimal()"
   ]
  },
  {
   "cell_type": "code",
   "execution_count": null,
   "id": "054fa8df",
   "metadata": {
    "vscode": {
     "languageId": "r"
    }
   },
   "outputs": [
    {
     "data": {
      "text/plain": [
       "\n",
       "Call:\n",
       "matchit(formula = treat ~ re74 + re75 + age + educ + black + \n",
       "    hispan + married + nodegree, data = dataset, method = \"nearest\", \n",
       "    discard = \"both\", replace = TRUE)\n",
       "\n",
       "Summary of Balance for All Data:\n",
       "         Means Treated Means Control Std. Mean Diff. Var. Ratio eCDF Mean\n",
       "distance        0.5774        0.1822          1.7941     0.9211    0.3774\n",
       "re74         2095.5737     5619.2365         -0.7211     0.5181    0.2248\n",
       "re75         1532.0553     2466.4844         -0.2903     0.9563    0.1342\n",
       "age            25.8162       28.0303         -0.3094     0.4400    0.0813\n",
       "educ           10.3459       10.2354          0.0550     0.4959    0.0347\n",
       "black           0.8432        0.2028          1.7615          .    0.6404\n",
       "hispan          0.0595        0.1422         -0.3498          .    0.0827\n",
       "married         0.1892        0.5128         -0.8263          .    0.3236\n",
       "nodegree        0.7081        0.5967          0.2450          .    0.1114\n",
       "         eCDF Max\n",
       "distance   0.6444\n",
       "re74       0.4470\n",
       "re75       0.2876\n",
       "age        0.1577\n",
       "educ       0.1114\n",
       "black      0.6404\n",
       "hispan     0.0827\n",
       "married    0.3236\n",
       "nodegree   0.1114\n",
       "\n",
       "Summary of Balance for Matched Data:\n",
       "         Means Treated Means Control Std. Mean Diff. Var. Ratio eCDF Mean\n",
       "distance        0.5669        0.5669          0.0003     0.9846    0.0028\n",
       "re74         2179.3904     2417.1266         -0.0487     1.0583    0.0441\n",
       "re75         1485.9177     1389.1992          0.0300     2.2076    0.0616\n",
       "age            25.4463       24.2655          0.1650     0.5133    0.0770\n",
       "educ           10.3220       10.3503         -0.0140     0.5768    0.0229\n",
       "black           0.8362        0.8305          0.0155          .    0.0056\n",
       "hispan          0.0621        0.0678         -0.0239          .    0.0056\n",
       "married         0.1977        0.1356          0.1587          .    0.0621\n",
       "nodegree        0.6949        0.6893          0.0124          .    0.0056\n",
       "         eCDF Max Std. Pair Dist.\n",
       "distance   0.0508          0.0097\n",
       "re74       0.2316          0.6325\n",
       "re75       0.2260          0.6279\n",
       "age        0.3164          1.2342\n",
       "educ       0.0621          1.1324\n",
       "black      0.0056          0.0466\n",
       "hispan     0.0056          0.3106\n",
       "married    0.0621          0.5337\n",
       "nodegree   0.0056          0.9072\n",
       "\n",
       "Sample Sizes:\n",
       "              Control Treated\n",
       "All            429.       185\n",
       "Matched (ESS)   47.54     177\n",
       "Matched         82.       177\n",
       "Unmatched      290.         0\n",
       "Discarded       57.         8\n"
      ]
     },
     "metadata": {},
     "output_type": "display_data"
    }
   ],
   "source": [
    "# Matching\n",
    "matching <- matchit(treat ~ re74 + re75 + age + educ +\n",
    "                      black + hispan + married + nodegree,\n",
    "                    data = dataset,\n",
    "                    method = \"nearest\",\n",
    "                    replace = TRUE,\n",
    "                    discard = \"both\")\n",
    "summary(matching)"
   ]
  },
  {
   "cell_type": "code",
   "execution_count": null,
   "id": "89b020a1",
   "metadata": {
    "vscode": {
     "languageId": "r"
    }
   },
   "outputs": [
    {
     "name": "stderr",
     "output_type": "stream",
     "text": [
      "\u001b[1m\u001b[22mAdding missing grouping variables: `treat`\n"
     ]
    },
    {
     "data": {
      "text/html": [
       "<table class=\"dataframe\">\n",
       "<caption>A tibble: 2 × 9</caption>\n",
       "<thead>\n",
       "\t<tr><th scope=col>treat</th><th scope=col>re74</th><th scope=col>re75</th><th scope=col>age</th><th scope=col>educ</th><th scope=col>black</th><th scope=col>hispan</th><th scope=col>married</th><th scope=col>nodegree</th></tr>\n",
       "\t<tr><th scope=col>&lt;int&gt;</th><th scope=col>&lt;dbl&gt;</th><th scope=col>&lt;dbl&gt;</th><th scope=col>&lt;dbl&gt;</th><th scope=col>&lt;dbl&gt;</th><th scope=col>&lt;dbl&gt;</th><th scope=col>&lt;dbl&gt;</th><th scope=col>&lt;dbl&gt;</th><th scope=col>&lt;dbl&gt;</th></tr>\n",
       "</thead>\n",
       "<tbody>\n",
       "\t<tr><td>0</td><td>2209.217</td><td>1588.038</td><td>24.89024</td><td>10.34146</td><td>0.6951220</td><td>0.12195122</td><td>0.2073171</td><td>0.6463415</td></tr>\n",
       "\t<tr><td>1</td><td>2179.390</td><td>1485.918</td><td>25.44633</td><td>10.32203</td><td>0.8361582</td><td>0.06214689</td><td>0.1977401</td><td>0.6949153</td></tr>\n",
       "</tbody>\n",
       "</table>\n"
      ],
      "text/latex": [
       "A tibble: 2 × 9\n",
       "\\begin{tabular}{lllllllll}\n",
       " treat & re74 & re75 & age & educ & black & hispan & married & nodegree\\\\\n",
       " <int> & <dbl> & <dbl> & <dbl> & <dbl> & <dbl> & <dbl> & <dbl> & <dbl>\\\\\n",
       "\\hline\n",
       "\t 0 & 2209.217 & 1588.038 & 24.89024 & 10.34146 & 0.6951220 & 0.12195122 & 0.2073171 & 0.6463415\\\\\n",
       "\t 1 & 2179.390 & 1485.918 & 25.44633 & 10.32203 & 0.8361582 & 0.06214689 & 0.1977401 & 0.6949153\\\\\n",
       "\\end{tabular}\n"
      ],
      "text/markdown": [
       "\n",
       "A tibble: 2 × 9\n",
       "\n",
       "| treat &lt;int&gt; | re74 &lt;dbl&gt; | re75 &lt;dbl&gt; | age &lt;dbl&gt; | educ &lt;dbl&gt; | black &lt;dbl&gt; | hispan &lt;dbl&gt; | married &lt;dbl&gt; | nodegree &lt;dbl&gt; |\n",
       "|---|---|---|---|---|---|---|---|---|\n",
       "| 0 | 2209.217 | 1588.038 | 24.89024 | 10.34146 | 0.6951220 | 0.12195122 | 0.2073171 | 0.6463415 |\n",
       "| 1 | 2179.390 | 1485.918 | 25.44633 | 10.32203 | 0.8361582 | 0.06214689 | 0.1977401 | 0.6949153 |\n",
       "\n"
      ],
      "text/plain": [
       "  treat re74     re75     age      educ     black     hispan     married  \n",
       "1 0     2209.217 1588.038 24.89024 10.34146 0.6951220 0.12195122 0.2073171\n",
       "2 1     2179.390 1485.918 25.44633 10.32203 0.8361582 0.06214689 0.1977401\n",
       "  nodegree \n",
       "1 0.6463415\n",
       "2 0.6949153"
      ]
     },
     "metadata": {},
     "output_type": "display_data"
    }
   ],
   "source": [
    "\n",
    "# Create dataframe with just matched data\n",
    "matched_data <- match.data(matching)\n",
    "\n",
    "# Calcuate the averages of the confounders (matched dataset)\n",
    "matched_data %>%\n",
    "  group_by(treat) %>%\n",
    "  select(one_of(confounders)) %>%\n",
    "  summarise_all(list(~ mean(., na.rm = TRUE)))"
   ]
  },
  {
   "cell_type": "code",
   "execution_count": null,
   "id": "4f16c9fd",
   "metadata": {
    "vscode": {
     "languageId": "r"
    }
   },
   "outputs": [
    {
     "data": {
      "text/plain": [
       "[[1]]\n",
       "\n",
       "\tWelch Two Sample t-test\n",
       "\n",
       "data:  matched_data[, variable] by matched_data[, \"treat\"]\n",
       "t = 0.048816, df = 177.91, p-value = 0.9611\n",
       "alternative hypothesis: true difference in means between group 0 and group 1 is not equal to 0\n",
       "95 percent confidence interval:\n",
       " -1175.906  1235.559\n",
       "sample estimates:\n",
       "mean in group 0 mean in group 1 \n",
       "       2209.217        2179.390 \n",
       "\n",
       "\n",
       "[[2]]\n",
       "\n",
       "\tWelch Two Sample t-test\n",
       "\n",
       "data:  matched_data[, variable] by matched_data[, \"treat\"]\n",
       "t = 0.27087, df = 190.76, p-value = 0.7868\n",
       "alternative hypothesis: true difference in means between group 0 and group 1 is not equal to 0\n",
       "95 percent confidence interval:\n",
       " -641.5332  845.7736\n",
       "sample estimates:\n",
       "mean in group 0 mean in group 1 \n",
       "       1588.038        1485.918 \n",
       "\n",
       "\n",
       "[[3]]\n",
       "\n",
       "\tWelch Two Sample t-test\n",
       "\n",
       "data:  matched_data[, variable] by matched_data[, \"treat\"]\n",
       "t = -0.44357, df = 116.79, p-value = 0.6582\n",
       "alternative hypothesis: true difference in means between group 0 and group 1 is not equal to 0\n",
       "95 percent confidence interval:\n",
       " -3.038924  1.926757\n",
       "sample estimates:\n",
       "mean in group 0 mean in group 1 \n",
       "       24.89024        25.44633 \n",
       "\n",
       "\n",
       "[[4]]\n",
       "\n",
       "\tWelch Two Sample t-test\n",
       "\n",
       "data:  matched_data[, variable] by matched_data[, \"treat\"]\n",
       "t = 0.057653, df = 125.52, p-value = 0.9541\n",
       "alternative hypothesis: true difference in means between group 0 and group 1 is not equal to 0\n",
       "95 percent confidence interval:\n",
       " -0.6475209  0.6863799\n",
       "sample estimates:\n",
       "mean in group 0 mean in group 1 \n",
       "       10.34146        10.32203 \n",
       "\n"
      ]
     },
     "metadata": {},
     "output_type": "display_data"
    }
   ],
   "source": [
    "# t test the continuous confounders (matched dataset)\n",
    "lapply(continuous_confounders, function(variable){\n",
    "  t.test(matched_data[, variable] ~ matched_data[, 'treat'])})\n"
   ]
  },
  {
   "cell_type": "code",
   "execution_count": null,
   "id": "a3b1e51e",
   "metadata": {
    "vscode": {
     "languageId": "r"
    }
   },
   "outputs": [
    {
     "data": {
      "text/plain": [
       "\n",
       "Call:\n",
       "lm(formula = re78 ~ treat + re74 + re75 + age + educ + black + \n",
       "    hispan + married + nodegree, data = matched_data)\n",
       "\n",
       "Residuals:\n",
       "   Min     1Q Median     3Q    Max \n",
       " -8917  -4868  -1772   3497  27349 \n",
       "\n",
       "Coefficients:\n",
       "              Estimate Std. Error t value Pr(>|t|)  \n",
       "(Intercept) -1.494e+02  3.926e+03  -0.038   0.9697  \n",
       "treat        1.513e+03  8.659e+02   1.747   0.0819 .\n",
       "re74         6.373e-02  1.134e-01   0.562   0.5747  \n",
       "re75         1.751e-01  1.799e-01   0.973   0.3314  \n",
       "age          2.620e+01  5.384e+01   0.487   0.6269  \n",
       "educ         4.387e+02  2.469e+02   1.777   0.0768 .\n",
       "black       -1.023e+03  1.234e+03  -0.829   0.4078  \n",
       "hispan      -4.168e+02  1.827e+03  -0.228   0.8197  \n",
       "married      3.959e+02  1.101e+03   0.360   0.7194  \n",
       "nodegree    -1.038e+02  1.212e+03  -0.086   0.9318  \n",
       "---\n",
       "Signif. codes:  0 '***' 0.001 '**' 0.01 '*' 0.05 '.' 0.1 ' ' 1\n",
       "\n",
       "Residual standard error: 6377 on 249 degrees of freedom\n",
       "Multiple R-squared:  0.06263,\tAdjusted R-squared:  0.02875 \n",
       "F-statistic: 1.849 on 9 and 249 DF,  p-value: 0.0603\n"
      ]
     },
     "metadata": {},
     "output_type": "display_data"
    }
   ],
   "source": [
    "# Evaluate the impact of the training (income of 78)\n",
    "impact_training <- lm(re78 ~ treat + re74 + re75 + age + educ +\n",
    "                        black + hispan + married + nodegree, \n",
    "                      data = matched_data)\n",
    "summary(impact_training)"
   ]
  },
  {
   "cell_type": "code",
   "execution_count": null,
   "id": "6578a3a0",
   "metadata": {
    "vscode": {
     "languageId": "r"
    }
   },
   "outputs": [
    {
     "data": {
      "image/png": "[encoded data removed]",
      "text/plain": [
       "plot without title"
      ]
     },
     "metadata": {
      "image/png": {
       "height": 420,
       "width": 420
      }
     },
     "output_type": "display_data"
    }
   ],
   "source": [
    "# a). Re-fit propensity model on matched data\n",
    "recomputed_model <- glm(treat ~ re74 + re75 + age + educ +\n",
    "                          black + hispan + married + nodegree,\n",
    "                        family = \"binomial\",\n",
    "                        data = matched_data)\n",
    "\n",
    "# b). Recalculate propensity scores for matched data\n",
    "matched_data$recomputed_pscore <- predict(recomputed_model, type = \"response\")\n",
    "\n",
    "# c). Create new dataframe for common support visualization\n",
    "recomputed_propensity_df <- matched_data %>%\n",
    "  select(treat, recomputed_pscore)\n",
    "\n",
    "# d). Visualize the common support region\n",
    "ggplot(recomputed_propensity_df, aes(x = recomputed_pscore, fill = as.factor(treat))) +\n",
    "  geom_histogram(position = \"identity\", alpha = 0.6, bins = 30) +\n",
    "  facet_wrap(~ treat) +\n",
    "  xlab(\"Recomputed Propensity Score\") +\n",
    "  ylab(\"Count\") +\n",
    "  labs(fill = \"Treatment Group\") +\n",
    "  theme_minimal()"
   ]
  },
  {
   "cell_type": "markdown",
   "id": "84194093",
   "metadata": {},
   "source": [
    "### Summary\n",
    "In randomized experiments, treatment assignment occurs randomly. However, in observational studies, this is not the case. Propensity Score Matching (PSM) is employed to approximate randomization by balancing covariates between treated and control groups, thereby mitigating selection bias.\n",
    "\n",
    "In this project, we estimated propensity scores using logistic regression and implemented nearest-neighbor matching to pair treated and untreated individuals with similar characteristics. We assessed covariate balance using t-tests and further validated the quality of matching by recomputing propensity scores on the matched dataset and visualizing the common support region to ensure sufficient overlap between groups.\n",
    "\n",
    "This project acknowledges resources from Udemy and The Elements of Statistical Learning."
   ]
  }
 ],
 "metadata": {
  "kernelspec": {
   "display_name": "R",
   "language": "R",
   "name": "ir"
  },
  "language_info": {
   "codemirror_mode": "r",
   "file_extension": ".r",
   "mimetype": "text/x-r-source",
   "name": "R",
   "pygments_lexer": "r",
   "version": "4.5.0"
  }
 },
 "nbformat": 4,
 "nbformat_minor": 5
}
