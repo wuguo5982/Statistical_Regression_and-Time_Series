{
 "cells": [
  {
   "cell_type": "markdown",
   "metadata": {},
   "source": [
    "## In this notebook, We will import, manipulate, visualize and forecast potato price data.  We'll also wrap our analysis into functions to make it easy to analyze prices of other foods."
   ]
  },
  {
   "cell_type": "code",
   "execution_count": 3,
   "metadata": {},
   "outputs": [
    {
     "name": "stdout",
     "output_type": "stream",
     "text": [
      "Rows: 4,320\n",
      "Columns: 6\n",
      "$ region       <chr> \"$West/Iburengerazuba\", \"$West/Iburengerazuba\", \"$West...\n",
      "$ market       <chr> \"Birambo\", \"Birambo\", \"Birambo\", \"Birambo\", \"Birambo\",...\n",
      "$ commodity_kg <chr> \"Potatoes (Irish)\", \"Potatoes (Irish)\", \"Potatoes (Iri...\n",
      "$ month        <int> 11, 12, 1, 2, 3, 4, 5, 6, 7, 8, 9, 10, 11, 12, 1, 2, 3...\n",
      "$ year         <int> 2010, 2010, 2011, 2011, 2011, 2011, 2011, 2011, 2011, ...\n",
      "$ price_rwf    <dbl> 157.0000, 133.3333, 96.5000, 97.0000, 107.8000, 125.50...\n"
     ]
    },
    {
     "data": {
      "text/html": [
       "<table>\n",
       "<thead><tr><th scope=col>region</th><th scope=col>market</th><th scope=col>commodity_kg</th><th scope=col>month</th><th scope=col>year</th><th scope=col>price_rwf</th></tr></thead>\n",
       "<tbody>\n",
       "\t<tr><td>$West/Iburengerazuba</td><td>Birambo             </td><td>Potatoes (Irish)    </td><td>11                  </td><td>2010                </td><td>157.0000            </td></tr>\n",
       "\t<tr><td>$West/Iburengerazuba</td><td>Birambo             </td><td>Potatoes (Irish)    </td><td>12                  </td><td>2010                </td><td>133.3333            </td></tr>\n",
       "\t<tr><td>$West/Iburengerazuba</td><td>Birambo             </td><td>Potatoes (Irish)    </td><td> 1                  </td><td>2011                </td><td> 96.5000            </td></tr>\n",
       "\t<tr><td>$West/Iburengerazuba</td><td>Birambo             </td><td>Potatoes (Irish)    </td><td> 2                  </td><td>2011                </td><td> 97.0000            </td></tr>\n",
       "\t<tr><td>$West/Iburengerazuba</td><td>Birambo             </td><td>Potatoes (Irish)    </td><td> 3                  </td><td>2011                </td><td>107.8000            </td></tr>\n",
       "\t<tr><td>$West/Iburengerazuba</td><td>Birambo             </td><td>Potatoes (Irish)    </td><td> 4                  </td><td>2011                </td><td>125.5000            </td></tr>\n",
       "</tbody>\n",
       "</table>\n"
      ],
      "text/latex": [
       "\\begin{tabular}{r|llllll}\n",
       " region & market & commodity\\_kg & month & year & price\\_rwf\\\\\n",
       "\\hline\n",
       "\t \\$West/Iburengerazuba & Birambo                & Potatoes (Irish)       & 11                     & 2010                   & 157.0000              \\\\\n",
       "\t \\$West/Iburengerazuba & Birambo                & Potatoes (Irish)       & 12                     & 2010                   & 133.3333              \\\\\n",
       "\t \\$West/Iburengerazuba & Birambo                & Potatoes (Irish)       &  1                     & 2011                   &  96.5000              \\\\\n",
       "\t \\$West/Iburengerazuba & Birambo                & Potatoes (Irish)       &  2                     & 2011                   &  97.0000              \\\\\n",
       "\t \\$West/Iburengerazuba & Birambo                & Potatoes (Irish)       &  3                     & 2011                   & 107.8000              \\\\\n",
       "\t \\$West/Iburengerazuba & Birambo                & Potatoes (Irish)       &  4                     & 2011                   & 125.5000              \\\\\n",
       "\\end{tabular}\n"
      ],
      "text/markdown": [
       "\n",
       "| region | market | commodity_kg | month | year | price_rwf |\n",
       "|---|---|---|---|---|---|\n",
       "| $West/Iburengerazuba | Birambo              | Potatoes (Irish)     | 11                   | 2010                 | 157.0000             |\n",
       "| $West/Iburengerazuba | Birambo              | Potatoes (Irish)     | 12                   | 2010                 | 133.3333             |\n",
       "| $West/Iburengerazuba | Birambo              | Potatoes (Irish)     |  1                   | 2011                 |  96.5000             |\n",
       "| $West/Iburengerazuba | Birambo              | Potatoes (Irish)     |  2                   | 2011                 |  97.0000             |\n",
       "| $West/Iburengerazuba | Birambo              | Potatoes (Irish)     |  3                   | 2011                 | 107.8000             |\n",
       "| $West/Iburengerazuba | Birambo              | Potatoes (Irish)     |  4                   | 2011                 | 125.5000             |\n",
       "\n"
      ],
      "text/plain": [
       "  region               market  commodity_kg     month year price_rwf\n",
       "1 $West/Iburengerazuba Birambo Potatoes (Irish) 11    2010 157.0000 \n",
       "2 $West/Iburengerazuba Birambo Potatoes (Irish) 12    2010 133.3333 \n",
       "3 $West/Iburengerazuba Birambo Potatoes (Irish)  1    2011  96.5000 \n",
       "4 $West/Iburengerazuba Birambo Potatoes (Irish)  2    2011  97.0000 \n",
       "5 $West/Iburengerazuba Birambo Potatoes (Irish)  3    2011 107.8000 \n",
       "6 $West/Iburengerazuba Birambo Potatoes (Irish)  4    2011 125.5000 "
      ]
     },
     "metadata": {},
     "output_type": "display_data"
    }
   ],
   "source": [
    "# Load the readr and dplyr packages\n",
    "library(readr)\n",
    "library(dplyr)\n",
    "\n",
    "potato_prices <- read_csv(\n",
    "  \"datasets/Potatoes (Irish).csv\",\n",
    "  col_types = cols_only(\n",
    "    adm1_name = col_character(),\n",
    "    mkt_name = col_character(),\n",
    "    cm_name = col_character(),\n",
    "    mp_month = col_integer(),\n",
    "    mp_year = col_integer(),\n",
    "    mp_price = col_double()\n",
    "  )\n",
    ")\n",
    "\n",
    "# Rename the columns to be more informative\n",
    "potato_prices_renamed <- potato_prices %>% \n",
    "  rename(region = adm1_name, \n",
    "    market = mkt_name,\n",
    "    commodity_kg = cm_name,\n",
    "    month = mp_month,\n",
    "    year = mp_year,\n",
    "    price_rwf = mp_price\n",
    "  )\n",
    "\n",
    "# Check the result\n",
    "glimpse(potato_prices_renamed)\n",
    "head(potato_prices_renamed)"
   ]
  },
  {
   "cell_type": "code",
   "execution_count": 8,
   "metadata": {},
   "outputs": [
    {
     "name": "stdout",
     "output_type": "stream",
     "text": [
      "Rows: 4,320\n",
      "Columns: 5\n",
      "$ region       <chr> \"$West/Iburengerazuba\", \"$West/Iburengerazuba\", \"$West...\n",
      "$ market       <chr> \"Birambo\", \"Birambo\", \"Birambo\", \"Birambo\", \"Birambo\",...\n",
      "$ commodity_kg <chr> \"Potatoes (Irish)\", \"Potatoes (Irish)\", \"Potatoes (Iri...\n",
      "$ price_rwf    <dbl> 157.0000, 133.3333, 96.5000, 97.0000, 107.8000, 125.50...\n",
      "$ date         <date> 2010-11-01, 2010-12-01, 2011-01-01, 2011-02-01, 2011-...\n"
     ]
    },
    {
     "data": {
      "text/html": [
       "<table>\n",
       "<thead><tr><th scope=col>region</th><th scope=col>market</th><th scope=col>commodity_kg</th><th scope=col>price_rwf</th><th scope=col>date</th></tr></thead>\n",
       "<tbody>\n",
       "\t<tr><td>$West/Iburengerazuba</td><td>Birambo             </td><td>Potatoes (Irish)    </td><td>157.0000            </td><td>2010-11-01          </td></tr>\n",
       "\t<tr><td>$West/Iburengerazuba</td><td>Birambo             </td><td>Potatoes (Irish)    </td><td>133.3333            </td><td>2010-12-01          </td></tr>\n",
       "\t<tr><td>$West/Iburengerazuba</td><td>Birambo             </td><td>Potatoes (Irish)    </td><td> 96.5000            </td><td>2011-01-01          </td></tr>\n",
       "\t<tr><td>$West/Iburengerazuba</td><td>Birambo             </td><td>Potatoes (Irish)    </td><td> 97.0000            </td><td>2011-02-01          </td></tr>\n",
       "\t<tr><td>$West/Iburengerazuba</td><td>Birambo             </td><td>Potatoes (Irish)    </td><td>107.8000            </td><td>2011-03-01          </td></tr>\n",
       "\t<tr><td>$West/Iburengerazuba</td><td>Birambo             </td><td>Potatoes (Irish)    </td><td>125.5000            </td><td>2011-04-01          </td></tr>\n",
       "</tbody>\n",
       "</table>\n"
      ],
      "text/latex": [
       "\\begin{tabular}{r|lllll}\n",
       " region & market & commodity\\_kg & price\\_rwf & date\\\\\n",
       "\\hline\n",
       "\t \\$West/Iburengerazuba & Birambo                & Potatoes (Irish)       & 157.0000               & 2010-11-01            \\\\\n",
       "\t \\$West/Iburengerazuba & Birambo                & Potatoes (Irish)       & 133.3333               & 2010-12-01            \\\\\n",
       "\t \\$West/Iburengerazuba & Birambo                & Potatoes (Irish)       &  96.5000               & 2011-01-01            \\\\\n",
       "\t \\$West/Iburengerazuba & Birambo                & Potatoes (Irish)       &  97.0000               & 2011-02-01            \\\\\n",
       "\t \\$West/Iburengerazuba & Birambo                & Potatoes (Irish)       & 107.8000               & 2011-03-01            \\\\\n",
       "\t \\$West/Iburengerazuba & Birambo                & Potatoes (Irish)       & 125.5000               & 2011-04-01            \\\\\n",
       "\\end{tabular}\n"
      ],
      "text/markdown": [
       "\n",
       "| region | market | commodity_kg | price_rwf | date |\n",
       "|---|---|---|---|---|\n",
       "| $West/Iburengerazuba | Birambo              | Potatoes (Irish)     | 157.0000             | 2010-11-01           |\n",
       "| $West/Iburengerazuba | Birambo              | Potatoes (Irish)     | 133.3333             | 2010-12-01           |\n",
       "| $West/Iburengerazuba | Birambo              | Potatoes (Irish)     |  96.5000             | 2011-01-01           |\n",
       "| $West/Iburengerazuba | Birambo              | Potatoes (Irish)     |  97.0000             | 2011-02-01           |\n",
       "| $West/Iburengerazuba | Birambo              | Potatoes (Irish)     | 107.8000             | 2011-03-01           |\n",
       "| $West/Iburengerazuba | Birambo              | Potatoes (Irish)     | 125.5000             | 2011-04-01           |\n",
       "\n"
      ],
      "text/plain": [
       "  region               market  commodity_kg     price_rwf date      \n",
       "1 $West/Iburengerazuba Birambo Potatoes (Irish) 157.0000  2010-11-01\n",
       "2 $West/Iburengerazuba Birambo Potatoes (Irish) 133.3333  2010-12-01\n",
       "3 $West/Iburengerazuba Birambo Potatoes (Irish)  96.5000  2011-01-01\n",
       "4 $West/Iburengerazuba Birambo Potatoes (Irish)  97.0000  2011-02-01\n",
       "5 $West/Iburengerazuba Birambo Potatoes (Irish) 107.8000  2011-03-01\n",
       "6 $West/Iburengerazuba Birambo Potatoes (Irish) 125.5000  2011-04-01"
      ]
     },
     "metadata": {},
     "output_type": "display_data"
    }
   ],
   "source": [
    "# Cleaning\n",
    "# install.packages('lubridate')\n",
    "library(lubridate)\n",
    "\n",
    "# Convert year and month to Date\n",
    "potato_prices_cleaned <- potato_prices_renamed %>% \n",
    "  mutate(date = ymd(paste(year, month, \"01\"))\n",
    "  ) %>% \n",
    "  select(-month, -year)\n",
    "\n",
    "# See the result\n",
    "glimpse(potato_prices_cleaned)\n",
    "head(potato_prices_cleaned)"
   ]
  },
  {
   "cell_type": "code",
   "execution_count": 9,
   "metadata": {},
   "outputs": [
    {
     "name": "stdout",
     "output_type": "stream",
     "text": [
      "Rows: 1,893\n",
      "Columns: 5\n",
      "$ region       <chr> \"$West/Iburengerazuba\", \"$West/Iburengerazuba\", \"$West...\n",
      "$ market       <chr> \"Birambo\", \"Birambo\", \"Birambo\", \"Birambo\", \"Birambo\",...\n",
      "$ commodity_kg <chr> \"Peas (fresh)\", \"Peas (fresh)\", \"Peas (fresh)\", \"Peas ...\n",
      "$ price_rwf    <dbl> 403.5000, 380.0000, 277.5000, 450.0000, 450.0000, 375....\n",
      "$ date         <date> 2011-01-01, 2011-02-01, 2011-04-01, 2011-05-01, 2011-...\n"
     ]
    },
    {
     "data": {
      "text/html": [
       "<table>\n",
       "<thead><tr><th scope=col>region</th><th scope=col>market</th><th scope=col>commodity_kg</th><th scope=col>price_rwf</th><th scope=col>date</th></tr></thead>\n",
       "<tbody>\n",
       "\t<tr><td>$West/Iburengerazuba</td><td>Birambo             </td><td>Peas (fresh)        </td><td>403.5               </td><td>2011-01-01          </td></tr>\n",
       "\t<tr><td>$West/Iburengerazuba</td><td>Birambo             </td><td>Peas (fresh)        </td><td>380.0               </td><td>2011-02-01          </td></tr>\n",
       "\t<tr><td>$West/Iburengerazuba</td><td>Birambo             </td><td>Peas (fresh)        </td><td>277.5               </td><td>2011-04-01          </td></tr>\n",
       "\t<tr><td>$West/Iburengerazuba</td><td>Birambo             </td><td>Peas (fresh)        </td><td>450.0               </td><td>2011-05-01          </td></tr>\n",
       "\t<tr><td>$West/Iburengerazuba</td><td>Birambo             </td><td>Peas (fresh)        </td><td>450.0               </td><td>2011-06-01          </td></tr>\n",
       "\t<tr><td>$West/Iburengerazuba</td><td>Birambo             </td><td>Peas (fresh)        </td><td>375.0               </td><td>2011-09-01          </td></tr>\n",
       "</tbody>\n",
       "</table>\n"
      ],
      "text/latex": [
       "\\begin{tabular}{r|lllll}\n",
       " region & market & commodity\\_kg & price\\_rwf & date\\\\\n",
       "\\hline\n",
       "\t \\$West/Iburengerazuba & Birambo                & Peas (fresh)           & 403.5                  & 2011-01-01            \\\\\n",
       "\t \\$West/Iburengerazuba & Birambo                & Peas (fresh)           & 380.0                  & 2011-02-01            \\\\\n",
       "\t \\$West/Iburengerazuba & Birambo                & Peas (fresh)           & 277.5                  & 2011-04-01            \\\\\n",
       "\t \\$West/Iburengerazuba & Birambo                & Peas (fresh)           & 450.0                  & 2011-05-01            \\\\\n",
       "\t \\$West/Iburengerazuba & Birambo                & Peas (fresh)           & 450.0                  & 2011-06-01            \\\\\n",
       "\t \\$West/Iburengerazuba & Birambo                & Peas (fresh)           & 375.0                  & 2011-09-01            \\\\\n",
       "\\end{tabular}\n"
      ],
      "text/markdown": [
       "\n",
       "| region | market | commodity_kg | price_rwf | date |\n",
       "|---|---|---|---|---|\n",
       "| $West/Iburengerazuba | Birambo              | Peas (fresh)         | 403.5                | 2011-01-01           |\n",
       "| $West/Iburengerazuba | Birambo              | Peas (fresh)         | 380.0                | 2011-02-01           |\n",
       "| $West/Iburengerazuba | Birambo              | Peas (fresh)         | 277.5                | 2011-04-01           |\n",
       "| $West/Iburengerazuba | Birambo              | Peas (fresh)         | 450.0                | 2011-05-01           |\n",
       "| $West/Iburengerazuba | Birambo              | Peas (fresh)         | 450.0                | 2011-06-01           |\n",
       "| $West/Iburengerazuba | Birambo              | Peas (fresh)         | 375.0                | 2011-09-01           |\n",
       "\n"
      ],
      "text/plain": [
       "  region               market  commodity_kg price_rwf date      \n",
       "1 $West/Iburengerazuba Birambo Peas (fresh) 403.5     2011-01-01\n",
       "2 $West/Iburengerazuba Birambo Peas (fresh) 380.0     2011-02-01\n",
       "3 $West/Iburengerazuba Birambo Peas (fresh) 277.5     2011-04-01\n",
       "4 $West/Iburengerazuba Birambo Peas (fresh) 450.0     2011-05-01\n",
       "5 $West/Iburengerazuba Birambo Peas (fresh) 450.0     2011-06-01\n",
       "6 $West/Iburengerazuba Birambo Peas (fresh) 375.0     2011-09-01"
      ]
     },
     "metadata": {},
     "output_type": "display_data"
    }
   ],
   "source": [
    "# Wrap this code into a function [Note] potatoes are not a balanced diet\n",
    "read_price_data <- function(commodity) {\n",
    "  data_file <- paste0(\"datasets/\", commodity, \".csv\")\n",
    "  prices <- read_csv(\n",
    "    data_file,\n",
    "    col_types = cols_only(\n",
    "      adm1_name = col_character(),\n",
    "      mkt_name = col_character(),\n",
    "      cm_name = col_character(),\n",
    "      mp_month = col_integer(),\n",
    "      mp_year = col_integer(),\n",
    "      mp_price = col_double()\n",
    "    )\n",
    "  )\n",
    "  \n",
    "  prices_renamed <- prices %>% \n",
    "    rename(\n",
    "      region = adm1_name, \n",
    "      market = mkt_name,\n",
    "      commodity_kg = cm_name,\n",
    "      month = mp_month,\n",
    "      year = mp_year,\n",
    "      price_rwf = mp_price\n",
    "    )\n",
    "    \n",
    "  prices_renamed %>% \n",
    "    mutate(\n",
    "      date = ymd(paste(year, month, \"01\"))\n",
    "    ) %>% \n",
    "    select(-month, -year)\n",
    "}\n",
    "\n",
    "# Test it\n",
    "pea_prices <- read_price_data(\"Peas (fresh)\")\n",
    "glimpse(pea_prices)\n",
    "head(pea_prices)"
   ]
  },
  {
   "cell_type": "code",
   "execution_count": 25,
   "metadata": {},
   "outputs": [
    {
     "data": {
      "image/png": "[encoded data removed]",
      "text/plain": [
       "plot without title"
      ]
     },
     "metadata": {},
     "output_type": "display_data"
    }
   ],
   "source": [
    "# Load ggplot2\n",
    "library(ggplot2)\n",
    "\n",
    "# Draw a line plot of price vs. date grouped by market \n",
    "potato_prices_cleaned %>% \n",
    "  ggplot(aes(date, price_rwf, group = market)) +\n",
    "  geom_line(alpha = 0.2) +\n",
    "  ggtitle(\"Potato price over time\")\n",
    "options(repr.plot.width = 4, repr.plot.height = 4)"
   ]
  },
  {
   "cell_type": "code",
   "execution_count": 27,
   "metadata": {},
   "outputs": [
    {
     "data": {
      "image/png": "[encoded data removed]",
      "text/plain": [
       "plot without title"
      ]
     },
     "metadata": {},
     "output_type": "display_data"
    },
    {
     "data": {
      "image/png": "[encoded data removed]",
      "text/plain": [
       "plot without title"
      ]
     },
     "metadata": {},
     "output_type": "display_data"
    }
   ],
   "source": [
    "# Wrap this code into a function\n",
    "potato_prices_cleaned %>% \n",
    "  ggplot(aes(date, price_rwf, group = market)) +\n",
    "  geom_line(alpha = 0.2) +\n",
    "  ggtitle(\"Potato price over time\")\n",
    "\n",
    "# Try the function on the pea data\n",
    "plot_price_vs_time <- function(prices, commodity) {\n",
    "  prices %>% \n",
    "    ggplot(aes(date, price_rwf, group = market)) +\n",
    "    geom_line(alpha = 0.2) +\n",
    "    ggtitle(paste(commodity, \"price over time\"))\n",
    "}\n",
    "plot_price_vs_time(pea_prices, \"Pea\")\n",
    "options(repr.plot.width = 4, repr.plot.height = 4)"
   ]
  },
  {
   "cell_type": "markdown",
   "metadata": {},
   "source": [
    "## Data preprocession for forecast"
   ]
  },
  {
   "cell_type": "code",
   "execution_count": 36,
   "metadata": {},
   "outputs": [
    {
     "data": {
      "text/html": [
       "<table>\n",
       "<thead><tr><th scope=col>date</th><th scope=col>median_price_rwf</th></tr></thead>\n",
       "<tbody>\n",
       "\t<tr><td>2008-01-01</td><td> 97.50    </td></tr>\n",
       "\t<tr><td>2008-02-01</td><td>100.00    </td></tr>\n",
       "\t<tr><td>2008-03-01</td><td> 95.00    </td></tr>\n",
       "\t<tr><td>2008-04-01</td><td> 96.25    </td></tr>\n",
       "\t<tr><td>2008-05-01</td><td> 95.00    </td></tr>\n",
       "\t<tr><td>2008-06-01</td><td>110.00    </td></tr>\n",
       "</tbody>\n",
       "</table>\n"
      ],
      "text/latex": [
       "\\begin{tabular}{r|ll}\n",
       " date & median\\_price\\_rwf\\\\\n",
       "\\hline\n",
       "\t 2008-01-01 &  97.50    \\\\\n",
       "\t 2008-02-01 & 100.00    \\\\\n",
       "\t 2008-03-01 &  95.00    \\\\\n",
       "\t 2008-04-01 &  96.25    \\\\\n",
       "\t 2008-05-01 &  95.00    \\\\\n",
       "\t 2008-06-01 & 110.00    \\\\\n",
       "\\end{tabular}\n"
      ],
      "text/markdown": [
       "\n",
       "| date | median_price_rwf |\n",
       "|---|---|\n",
       "| 2008-01-01 |  97.50     |\n",
       "| 2008-02-01 | 100.00     |\n",
       "| 2008-03-01 |  95.00     |\n",
       "| 2008-04-01 |  96.25     |\n",
       "| 2008-05-01 |  95.00     |\n",
       "| 2008-06-01 | 110.00     |\n",
       "\n"
      ],
      "text/plain": [
       "  date       median_price_rwf\n",
       "1 2008-01-01  97.50          \n",
       "2 2008-02-01 100.00          \n",
       "3 2008-03-01  95.00          \n",
       "4 2008-04-01  96.25          \n",
       "5 2008-05-01  95.00          \n",
       "6 2008-06-01 110.00          "
      ]
     },
     "metadata": {},
     "output_type": "display_data"
    }
   ],
   "source": [
    "# Group by date, and calculate the median price\n",
    "potato_prices_summarized <- potato_prices_cleaned %>%\n",
    "  group_by(date) %>% \n",
    "  summarize(median_price_rwf = median(price_rwf), .groups = 'drop')\n",
    "\n",
    "# See the result\n",
    "head(potato_prices_summarized)"
   ]
  },
  {
   "cell_type": "code",
   "execution_count": 49,
   "metadata": {},
   "outputs": [
    {
     "name": "stderr",
     "output_type": "stream",
     "text": [
      "ERROR while rich displaying an object: Error in repr_matrix_generic(obj, \"\\n%s%s\\n\", sprintf(\"|%%s\\n|%s|\\n\", : formal argument \"cols\" matched by multiple actual arguments\n",
      "\n",
      "Traceback:\n",
      "1. FUN(X[[i]], ...)\n",
      "2. tryCatch(withCallingHandlers({\n",
      " .     if (!mime %in% names(repr::mime2repr)) \n",
      " .         stop(\"No repr_* for mimetype \", mime, \" in repr::mime2repr\")\n",
      " .     rpr <- repr::mime2repr[[mime]](obj)\n",
      " .     if (is.null(rpr)) \n",
      " .         return(NULL)\n",
      " .     prepare_content(is.raw(rpr), rpr)\n",
      " . }, error = error_handler), error = outer_handler)\n",
      "3. tryCatchList(expr, classes, parentenv, handlers)\n",
      "4. tryCatchOne(expr, names, parentenv, handlers[[1L]])\n",
      "5. doTryCatch(return(expr), name, parentenv, handler)\n",
      "6. withCallingHandlers({\n",
      " .     if (!mime %in% names(repr::mime2repr)) \n",
      " .         stop(\"No repr_* for mimetype \", mime, \" in repr::mime2repr\")\n",
      " .     rpr <- repr::mime2repr[[mime]](obj)\n",
      " .     if (is.null(rpr)) \n",
      " .         return(NULL)\n",
      " .     prepare_content(is.raw(rpr), rpr)\n",
      " . }, error = error_handler)\n",
      "7. repr::mime2repr[[mime]](obj)\n",
      "8. repr_markdown.ts(obj)\n",
      "9. repr_ts_generic(obj, repr_markdown.matrix, ...)\n",
      "10. repr_func(m, ..., rows = nrow(m), cols = ncol(m))\n"
     ]
    },
    {
     "data": {
      "text/html": [
       "<table>\n",
       "<thead><tr><th></th><th scope=col>Jan</th><th scope=col>Feb</th><th scope=col>Mar</th><th scope=col>Apr</th><th scope=col>May</th><th scope=col>Jun</th><th scope=col>Jul</th><th scope=col>Aug</th><th scope=col>Sep</th><th scope=col>Oct</th><th scope=col>Nov</th><th scope=col>Dec</th></tr></thead>\n",
       "<tbody>\n",
       "\t<tr><th scope=row>2008</th><td> 97.5000</td><td>100.0000</td><td> 95.0000</td><td> 96.2500</td><td> 95.0000</td><td>110.0000</td><td>116.6667</td><td>125.0000</td><td>136.2500</td><td>130.0000</td><td>127.5000</td><td>114.3750</td></tr>\n",
       "\t<tr><th scope=row>2009</th><td>120.0000</td><td>122.5000</td><td>130.0000</td><td>131.2500</td><td>135.0000</td><td>124.3125</td><td>125.8333</td><td>144.2500</td><td>181.2500</td><td>170.0000</td><td>150.2500</td><td>112.0000</td></tr>\n",
       "\t<tr><th scope=row>2010</th><td>109.6875</td><td>113.5000</td><td>131.2500</td><td>132.0833</td><td>140.4167</td><td>147.3750</td><td>142.5000</td><td>161.5000</td><td>182.4000</td><td>162.5000</td><td>151.5000</td><td>122.5000</td></tr>\n",
       "\t<tr><th scope=row>2011</th><td>105.7000</td><td>108.1750</td><td>118.8750</td><td>145.0143</td><td>148.6667</td><td>148.0500</td><td>137.4048</td><td>137.2619</td><td>141.6667</td><td>144.2000</td><td>133.1750</td><td>141.5000</td></tr>\n",
       "\t<tr><th scope=row>2012</th><td>150.7500</td><td>175.2500</td><td>186.0139</td><td>186.2500</td><td>182.5000</td><td>162.7500</td><td>179.1250</td><td>196.9643</td><td>226.5000</td><td>203.5000</td><td>169.2500</td><td>144.0000</td></tr>\n",
       "\t<tr><th scope=row>2013</th><td>154.3333</td><td>157.0000</td><td>171.2500</td><td>187.5000</td><td>177.0000</td><td>202.2500</td><td>210.0000</td><td>233.1875</td><td>241.3333</td><td>237.5000</td><td>176.7083</td><td>140.0000</td></tr>\n",
       "\t<tr><th scope=row>2014</th><td>138.3333</td><td>158.7500</td><td>186.2500</td><td>198.2500</td><td>191.0000</td><td>189.3333</td><td>182.5000</td><td>187.6191</td><td>200.0000</td><td>183.1309</td><td>150.0000</td><td>133.9286</td></tr>\n",
       "\t<tr><th scope=row>2015</th><td>136.2500</td><td>157.6071</td><td>178.0000</td><td>190.2778</td><td>179.3750</td><td>168.3333</td><td>180.0000</td><td>202.1250</td><td>223.5000</td><td>217.5000</td><td>216.1250</td><td>190.0000</td></tr>\n",
       "</tbody>\n",
       "</table>\n"
      ],
      "text/latex": [
       "\\begin{tabular}{r|llllllllllll}\n",
       "  & Jan & Feb & Mar & Apr & May & Jun & Jul & Aug & Sep & Oct & Nov & Dec\\\\\n",
       "\\hline\n",
       "\t2008 &  97.5000 & 100.0000 &  95.0000 &  96.2500 &  95.0000 & 110.0000 & 116.6667 & 125.0000 & 136.2500 & 130.0000 & 127.5000 & 114.3750\\\\\n",
       "\t2009 & 120.0000 & 122.5000 & 130.0000 & 131.2500 & 135.0000 & 124.3125 & 125.8333 & 144.2500 & 181.2500 & 170.0000 & 150.2500 & 112.0000\\\\\n",
       "\t2010 & 109.6875 & 113.5000 & 131.2500 & 132.0833 & 140.4167 & 147.3750 & 142.5000 & 161.5000 & 182.4000 & 162.5000 & 151.5000 & 122.5000\\\\\n",
       "\t2011 & 105.7000 & 108.1750 & 118.8750 & 145.0143 & 148.6667 & 148.0500 & 137.4048 & 137.2619 & 141.6667 & 144.2000 & 133.1750 & 141.5000\\\\\n",
       "\t2012 & 150.7500 & 175.2500 & 186.0139 & 186.2500 & 182.5000 & 162.7500 & 179.1250 & 196.9643 & 226.5000 & 203.5000 & 169.2500 & 144.0000\\\\\n",
       "\t2013 & 154.3333 & 157.0000 & 171.2500 & 187.5000 & 177.0000 & 202.2500 & 210.0000 & 233.1875 & 241.3333 & 237.5000 & 176.7083 & 140.0000\\\\\n",
       "\t2014 & 138.3333 & 158.7500 & 186.2500 & 198.2500 & 191.0000 & 189.3333 & 182.5000 & 187.6191 & 200.0000 & 183.1309 & 150.0000 & 133.9286\\\\\n",
       "\t2015 & 136.2500 & 157.6071 & 178.0000 & 190.2778 & 179.3750 & 168.3333 & 180.0000 & 202.1250 & 223.5000 & 217.5000 & 216.1250 & 190.0000\\\\\n",
       "\\end{tabular}\n"
      ],
      "text/plain": [
       "     Jan      Feb      Mar      Apr      May      Jun      Jul      Aug     \n",
       "2008  97.5000 100.0000  95.0000  96.2500  95.0000 110.0000 116.6667 125.0000\n",
       "2009 120.0000 122.5000 130.0000 131.2500 135.0000 124.3125 125.8333 144.2500\n",
       "2010 109.6875 113.5000 131.2500 132.0833 140.4167 147.3750 142.5000 161.5000\n",
       "2011 105.7000 108.1750 118.8750 145.0143 148.6667 148.0500 137.4048 137.2619\n",
       "2012 150.7500 175.2500 186.0139 186.2500 182.5000 162.7500 179.1250 196.9643\n",
       "2013 154.3333 157.0000 171.2500 187.5000 177.0000 202.2500 210.0000 233.1875\n",
       "2014 138.3333 158.7500 186.2500 198.2500 191.0000 189.3333 182.5000 187.6191\n",
       "2015 136.2500 157.6071 178.0000 190.2778 179.3750 168.3333 180.0000 202.1250\n",
       "     Sep      Oct      Nov      Dec     \n",
       "2008 136.2500 130.0000 127.5000 114.3750\n",
       "2009 181.2500 170.0000 150.2500 112.0000\n",
       "2010 182.4000 162.5000 151.5000 122.5000\n",
       "2011 141.6667 144.2000 133.1750 141.5000\n",
       "2012 226.5000 203.5000 169.2500 144.0000\n",
       "2013 241.3333 237.5000 176.7083 140.0000\n",
       "2014 200.0000 183.1309 150.0000 133.9286\n",
       "2015 223.5000 217.5000 216.1250 190.0000"
      ]
     },
     "metadata": {},
     "output_type": "display_data"
    }
   ],
   "source": [
    "# Load magrittr\n",
    "# install.packages('magrittr')\n",
    "library(magrittr)\n",
    "\n",
    "# Extract a time series\n",
    "potato_time_series <- potato_prices_summarized %$% \n",
    "  ts(median_price_rwf, \n",
    "    start = c(year(min(date)), month(min(date))), \n",
    "    end   = c(year(max(date)), month(max(date))), \n",
    "    frequency = 12\n",
    "  )\n",
    "\n",
    "# See the result\n",
    "potato_time_series"
   ]
  },
  {
   "cell_type": "code",
   "execution_count": 48,
   "metadata": {},
   "outputs": [
    {
     "name": "stderr",
     "output_type": "stream",
     "text": [
      "ERROR while rich displaying an object: Error in repr_matrix_generic(obj, \"\\n%s%s\\n\", sprintf(\"|%%s\\n|%s|\\n\", : formal argument \"cols\" matched by multiple actual arguments\n",
      "\n",
      "Traceback:\n",
      "1. FUN(X[[i]], ...)\n",
      "2. tryCatch(withCallingHandlers({\n",
      " .     if (!mime %in% names(repr::mime2repr)) \n",
      " .         stop(\"No repr_* for mimetype \", mime, \" in repr::mime2repr\")\n",
      " .     rpr <- repr::mime2repr[[mime]](obj)\n",
      " .     if (is.null(rpr)) \n",
      " .         return(NULL)\n",
      " .     prepare_content(is.raw(rpr), rpr)\n",
      " . }, error = error_handler), error = outer_handler)\n",
      "3. tryCatchList(expr, classes, parentenv, handlers)\n",
      "4. tryCatchOne(expr, names, parentenv, handlers[[1L]])\n",
      "5. doTryCatch(return(expr), name, parentenv, handler)\n",
      "6. withCallingHandlers({\n",
      " .     if (!mime %in% names(repr::mime2repr)) \n",
      " .         stop(\"No repr_* for mimetype \", mime, \" in repr::mime2repr\")\n",
      " .     rpr <- repr::mime2repr[[mime]](obj)\n",
      " .     if (is.null(rpr)) \n",
      " .         return(NULL)\n",
      " .     prepare_content(is.raw(rpr), rpr)\n",
      " . }, error = error_handler)\n",
      "7. repr::mime2repr[[mime]](obj)\n",
      "8. repr_markdown.ts(obj)\n",
      "9. repr_ts_generic(obj, repr_markdown.matrix, ...)\n",
      "10. repr_func(m, ..., rows = nrow(m), cols = ncol(m))\n"
     ]
    },
    {
     "data": {
      "text/html": [
       "<table>\n",
       "<thead><tr><th></th><th scope=col>Jan</th><th scope=col>Feb</th><th scope=col>Mar</th><th scope=col>Apr</th><th scope=col>May</th><th scope=col>Jun</th><th scope=col>Jul</th><th scope=col>Aug</th><th scope=col>Sep</th><th scope=col>Oct</th><th scope=col>Nov</th><th scope=col>Dec</th></tr></thead>\n",
       "<tbody>\n",
       "\t<tr><th scope=row>2011</th><td> 561.6667</td><td> 700.0000</td><td> 958.0000</td><td> 710.0000</td><td> 591.5000</td><td> 597.8572</td><td> 666.3572</td><td> 758.5000</td><td> 938.8333</td><td>1506.2500</td><td> 787.5000</td><td> 548.9375</td></tr>\n",
       "\t<tr><th scope=row>2012</th><td> 655.0000</td><td> 950.0000</td><td>1272.1667</td><td>1166.0000</td><td> 945.8750</td><td> 822.3333</td><td> 714.2857</td><td> 788.1250</td><td> 990.7222</td><td>1413.7500</td><td> 964.2619</td><td> 661.8571</td></tr>\n",
       "\t<tr><th scope=row>2013</th><td> 668.7500</td><td> 781.6334</td><td> 829.9875</td><td> 975.0000</td><td> 908.2500</td><td> 789.9444</td><td> 806.8000</td><td>1000.0000</td><td>1162.4583</td><td>1316.7500</td><td> 916.6667</td><td> 623.8571</td></tr>\n",
       "\t<tr><th scope=row>2014</th><td> 695.5000</td><td>1025.0000</td><td>1166.6250</td><td>1083.2500</td><td> 825.0000</td><td> 816.6667</td><td> 809.5714</td><td>1000.0000</td><td>1000.0000</td><td>1666.6667</td><td> 700.0000</td><td> 633.3333</td></tr>\n",
       "\t<tr><th scope=row>2015</th><td> 800.0000</td><td>1066.6667</td><td>1100.0000</td><td>1051.8889</td><td> 950.0000</td><td> 873.6667</td><td> 804.1250</td><td> 900.0000</td><td>1166.6667</td><td>1550.0000</td><td>1066.6667</td><td> 802.1250</td></tr>\n",
       "</tbody>\n",
       "</table>\n"
      ],
      "text/latex": [
       "\\begin{tabular}{r|llllllllllll}\n",
       "  & Jan & Feb & Mar & Apr & May & Jun & Jul & Aug & Sep & Oct & Nov & Dec\\\\\n",
       "\\hline\n",
       "\t2011 &  561.6667 &  700.0000 &  958.0000 &  710.0000 &  591.5000 &  597.8572 &  666.3572 &  758.5000 &  938.8333 & 1506.2500 &  787.5000 &  548.9375\\\\\n",
       "\t2012 &  655.0000 &  950.0000 & 1272.1667 & 1166.0000 &  945.8750 &  822.3333 &  714.2857 &  788.1250 &  990.7222 & 1413.7500 &  964.2619 &  661.8571\\\\\n",
       "\t2013 &  668.7500 &  781.6334 &  829.9875 &  975.0000 &  908.2500 &  789.9444 &  806.8000 & 1000.0000 & 1162.4583 & 1316.7500 &  916.6667 &  623.8571\\\\\n",
       "\t2014 &  695.5000 & 1025.0000 & 1166.6250 & 1083.2500 &  825.0000 &  816.6667 &  809.5714 & 1000.0000 & 1000.0000 & 1666.6667 &  700.0000 &  633.3333\\\\\n",
       "\t2015 &  800.0000 & 1066.6667 & 1100.0000 & 1051.8889 &  950.0000 &  873.6667 &  804.1250 &  900.0000 & 1166.6667 & 1550.0000 & 1066.6667 &  802.1250\\\\\n",
       "\\end{tabular}\n"
      ],
      "text/plain": [
       "     Jan       Feb       Mar       Apr       May       Jun       Jul      \n",
       "2011  561.6667  700.0000  958.0000  710.0000  591.5000  597.8572  666.3572\n",
       "2012  655.0000  950.0000 1272.1667 1166.0000  945.8750  822.3333  714.2857\n",
       "2013  668.7500  781.6334  829.9875  975.0000  908.2500  789.9444  806.8000\n",
       "2014  695.5000 1025.0000 1166.6250 1083.2500  825.0000  816.6667  809.5714\n",
       "2015  800.0000 1066.6667 1100.0000 1051.8889  950.0000  873.6667  804.1250\n",
       "     Aug       Sep       Oct       Nov       Dec      \n",
       "2011  758.5000  938.8333 1506.2500  787.5000  548.9375\n",
       "2012  788.1250  990.7222 1413.7500  964.2619  661.8571\n",
       "2013 1000.0000 1162.4583 1316.7500  916.6667  623.8571\n",
       "2014 1000.0000 1000.0000 1666.6667  700.0000  633.3333\n",
       "2015  900.0000 1166.6667 1550.0000 1066.6667  802.1250"
      ]
     },
     "metadata": {},
     "output_type": "display_data"
    }
   ],
   "source": [
    "# Wrap this code into a function\n",
    "create_price_time_series <- function(prices) {\n",
    "  prices_summarized <- prices %>%\n",
    "    group_by(date) %>% \n",
    "    summarize(median_price_rwf = median(price_rwf), .groups = 'drop')\n",
    "  \n",
    "  prices_summarized %$% \n",
    "    ts(median_price_rwf, \n",
    "      start = c(year(min(date)), month(min(date))), \n",
    "      end   = c(year(max(date)), month(max(date))), \n",
    "      frequency = 12)\n",
    "}\n",
    "\n",
    "# Try the function on the pea data\n",
    "pea_time_series <- create_price_time_series(pea_prices)\n",
    "pea_time_series"
   ]
  },
  {
   "cell_type": "code",
   "execution_count": 42,
   "metadata": {},
   "outputs": [
    {
     "data": {
      "text/plain": [
       "         Point Forecast     Lo 80    Hi 80     Lo 95    Hi 95\n",
       "Jan 2016       190.0093 171.35706 208.6615 161.48317 218.5354\n",
       "Feb 2016       202.6099 174.14582 231.0740 159.07783 246.1420\n",
       "Mar 2016       220.0317 181.72222 258.3413 161.44238 278.6211\n",
       "Apr 2016       231.5932 184.48380 278.7026 159.54559 303.6408\n",
       "May 2016       226.2626 174.20438 278.3209 146.64641 305.8789\n",
       "Jun 2016       229.1587 170.73454 287.5829 139.80665 318.5108\n",
       "Jul 2016       230.8787 166.57270 295.1848 132.53113 329.2263\n",
       "Aug 2016       251.1739 175.53815 326.8096 135.49902 366.8487\n",
       "Sep 2016       279.3573 189.13187 369.5827 141.36943 417.3451\n",
       "Oct 2016       262.7887 172.33073 353.2467 124.44516 401.1323\n",
       "Nov 2016       236.0485 149.89274 322.2042 104.28465 367.8123\n",
       "Dec 2016       205.0924 126.05584 284.1290  84.21640 325.9684\n",
       "Jan 2017       205.0036 121.88813 288.1190  77.88948 332.1177\n",
       "Feb 2017       218.4941 125.58323 311.4050  76.39917 360.5891\n",
       "Mar 2017       237.1698 131.67270 342.6669  75.82591 398.5137\n",
       "Apr 2017       249.5154 133.68437 365.3465  72.36711 426.6638\n",
       "May 2017       243.6602 125.85363 361.4667  63.49061 423.8297\n",
       "Jun 2017       246.6667 122.68387 370.6496  57.05130 436.2822\n",
       "Jul 2017       248.4066 118.81644 377.9967  50.21556 446.5976\n",
       "Aug 2017       270.1226 124.07681 416.1684  46.76484 493.4804\n",
       "Sep 2017       300.3005 132.25584 468.3452  43.29837 557.3027\n",
       "Oct 2017       282.3675 119.02591 445.7092  32.55807 532.1770\n",
       "Nov 2017       253.5265 102.08787 404.9651  21.92111 485.1319\n",
       "Dec 2017       220.1852  84.51341 355.8570  12.69310 427.6773"
      ]
     },
     "metadata": {},
     "output_type": "display_data"
    },
    {
     "data": {
      "image/png": "[encoded data removed]",
      "text/plain": [
       "plot without title"
      ]
     },
     "metadata": {},
     "output_type": "display_data"
    }
   ],
   "source": [
    "# Load forecast\n",
    "# install.packages('forecast')\n",
    "library(forecast)\n",
    "\n",
    "# Forecast the potato time series\n",
    "potato_price_forecast <- forecast(potato_time_series)\n",
    "\n",
    "# View it\n",
    "potato_price_forecast\n",
    "\n",
    "# Plot the forecast\n",
    "autoplot(potato_price_forecast, main = \"Potato price forecast\")"
   ]
  },
  {
   "cell_type": "code",
   "execution_count": 43,
   "metadata": {},
   "outputs": [
    {
     "data": {
      "image/png": "[encoded data removed]",
      "text/plain": [
       "plot without title"
      ]
     },
     "metadata": {},
     "output_type": "display_data"
    }
   ],
   "source": [
    "# Wrap the code into a function\n",
    "plot_price_forecast <- function(time_series, commodity) {\n",
    "  price_forecast <- forecast(time_series)\n",
    "  autoplot(price_forecast, main = paste(commodity, \"price forecast\")) \n",
    "}\n",
    "\n",
    "# Try the function on the pea data\n",
    "plot_price_forecast(pea_time_series, \"Pea\")"
   ]
  },
  {
   "cell_type": "markdown",
   "metadata": {},
   "source": [
    "## Wrap all the code in to forecasting functions"
   ]
  },
  {
   "cell_type": "code",
   "execution_count": 45,
   "metadata": {},
   "outputs": [
    {
     "data": {
      "image/png": "[encoded data removed]",
      "text/plain": [
       "plot without title"
      ]
     },
     "metadata": {},
     "output_type": "display_data"
    },
    {
     "data": {
      "image/png": "[encoded data removed]",
      "text/plain": [
       "plot without title"
      ]
     },
     "metadata": {},
     "output_type": "display_data"
    }
   ],
   "source": [
    "# Choose dry beans as the commodity\n",
    "commodity <- \"Beans (dry)\"\n",
    "\n",
    "# Read the price data\n",
    "bean_prices <- read_price_data(commodity)\n",
    "\n",
    "# Plot price vs. time\n",
    "plot_price_vs_time(bean_prices, commodity)\n",
    "\n",
    "# Create a price time series\n",
    "bean_time_series <- create_price_time_series(bean_prices)\n",
    "\n",
    "# Plot the price forecast\n",
    "plot_price_forecast(bean_time_series, commodity)"
   ]
  },
  {
   "cell_type": "code",
   "execution_count": null,
   "metadata": {},
   "outputs": [],
   "source": []
  }
 ],
 "metadata": {
  "kernelspec": {
   "display_name": "R",
   "language": "R",
   "name": "ir"
  },
  "language_info": {
   "codemirror_mode": "r",
   "file_extension": ".r",
   "mimetype": "text/x-r-source",
   "name": "R",
   "pygments_lexer": "r",
   "version": "3.6.1"
  },
  "varInspector": {
   "cols": {
    "lenName": 16,
    "lenType": 16,
    "lenVar": 40
   },
   "kernels_config": {
    "python": {
     "delete_cmd_postfix": "",
     "delete_cmd_prefix": "del ",
     "library": "var_list.py",
     "varRefreshCmd": "print(var_dic_list())"
    },
    "r": {
     "delete_cmd_postfix": ") ",
     "delete_cmd_prefix": "rm(",
     "library": "var_list.r",
     "varRefreshCmd": "cat(var_dic_list()) "
    }
   },
   "types_to_exclude": [
    "module",
    "function",
    "builtin_function_or_method",
    "instance",
    "_Feature"
   ],
   "window_display": false
  }
 },
 "nbformat": 4,
 "nbformat_minor": 4
}
